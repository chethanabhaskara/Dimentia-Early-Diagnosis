{
  "nbformat": 4,
  "nbformat_minor": 0,
  "metadata": {
    "kernelspec": {
      "name": "python3",
      "display_name": "Python 3"
    },
    "colab": {
      "name": "longitudinal-data-algorithms.ipynb",
      "provenance": [],
      "collapsed_sections": [],
      "include_colab_link": true
    }
  },
  "cells": [
    {
      "cell_type": "markdown",
      "metadata": {
        "id": "view-in-github",
        "colab_type": "text"
      },
      "source": [
        "<a href=\"https://colab.research.google.com/github/chethanabhaskara/Early-diagonsis-of-Alzheimer-s-disease/blob/master/longitudinal_data_algorithms.ipynb\" target=\"_parent\"><img src=\"https://colab.research.google.com/assets/colab-badge.svg\" alt=\"Open In Colab\"/></a>"
      ]
    },
    {
      "cell_type": "code",
      "metadata": {
        "id": "AYk7Zdyuc6IZ",
        "colab_type": "code",
        "outputId": "d51a0b3c-7677-4dc2-b000-03c57fc8e7fe",
        "colab": {
          "base_uri": "https://localhost:8080/",
          "height": 72
        }
      },
      "source": [
        "import pandas as pd\n",
        "import numpy as np\n",
        "import seaborn as sns\n",
        "import matplotlib.pyplot as plt\n",
        "\n",
        "sns.set()"
      ],
      "execution_count": 0,
      "outputs": [
        {
          "output_type": "stream",
          "text": [
            "/usr/local/lib/python3.6/dist-packages/statsmodels/tools/_testing.py:19: FutureWarning: pandas.util.testing is deprecated. Use the functions in the public API at pandas.testing instead.\n",
            "  import pandas.util.testing as tm\n"
          ],
          "name": "stderr"
        }
      ]
    },
    {
      "cell_type": "markdown",
      "metadata": {
        "id": "3lC_3ICXc6If",
        "colab_type": "text"
      },
      "source": [
        "<font size=\"4\">A) Using Longitudinal Data for training</font>\n"
      ]
    },
    {
      "cell_type": "code",
      "metadata": {
        "id": "FhTm-v2Wc6If",
        "colab_type": "code",
        "outputId": "5d767639-b3c4-460c-faa0-12a8bc691802",
        "colab": {
          "base_uri": "https://localhost:8080/",
          "height": 202
        }
      },
      "source": [
        "file_path = 'https://raw.githubusercontent.com/chethanabhaskara/Early-diagonsis-of-Alzheimer-s-disease/master/oasis_longitudinal.csv'\n",
        "df = pd.read_csv(file_path)\n",
        "df.head()"
      ],
      "execution_count": 0,
      "outputs": [
        {
          "output_type": "execute_result",
          "data": {
            "text/html": [
              "<div>\n",
              "<style scoped>\n",
              "    .dataframe tbody tr th:only-of-type {\n",
              "        vertical-align: middle;\n",
              "    }\n",
              "\n",
              "    .dataframe tbody tr th {\n",
              "        vertical-align: top;\n",
              "    }\n",
              "\n",
              "    .dataframe thead th {\n",
              "        text-align: right;\n",
              "    }\n",
              "</style>\n",
              "<table border=\"1\" class=\"dataframe\">\n",
              "  <thead>\n",
              "    <tr style=\"text-align: right;\">\n",
              "      <th></th>\n",
              "      <th>Subject ID</th>\n",
              "      <th>MRI ID</th>\n",
              "      <th>Group</th>\n",
              "      <th>Visit</th>\n",
              "      <th>MR Delay</th>\n",
              "      <th>M/F</th>\n",
              "      <th>Hand</th>\n",
              "      <th>Age</th>\n",
              "      <th>EDUC</th>\n",
              "      <th>SES</th>\n",
              "      <th>MMSE</th>\n",
              "      <th>CDR</th>\n",
              "      <th>eTIV</th>\n",
              "      <th>nWBV</th>\n",
              "      <th>ASF</th>\n",
              "    </tr>\n",
              "  </thead>\n",
              "  <tbody>\n",
              "    <tr>\n",
              "      <th>0</th>\n",
              "      <td>OAS2_0001</td>\n",
              "      <td>OAS2_0001_MR1</td>\n",
              "      <td>Nondemented</td>\n",
              "      <td>1</td>\n",
              "      <td>0</td>\n",
              "      <td>M</td>\n",
              "      <td>R</td>\n",
              "      <td>87</td>\n",
              "      <td>14</td>\n",
              "      <td>2.0</td>\n",
              "      <td>27.0</td>\n",
              "      <td>0.0</td>\n",
              "      <td>1987</td>\n",
              "      <td>0.696</td>\n",
              "      <td>0.883</td>\n",
              "    </tr>\n",
              "    <tr>\n",
              "      <th>1</th>\n",
              "      <td>OAS2_0001</td>\n",
              "      <td>OAS2_0001_MR2</td>\n",
              "      <td>Nondemented</td>\n",
              "      <td>2</td>\n",
              "      <td>457</td>\n",
              "      <td>M</td>\n",
              "      <td>R</td>\n",
              "      <td>88</td>\n",
              "      <td>14</td>\n",
              "      <td>2.0</td>\n",
              "      <td>30.0</td>\n",
              "      <td>0.0</td>\n",
              "      <td>2004</td>\n",
              "      <td>0.681</td>\n",
              "      <td>0.876</td>\n",
              "    </tr>\n",
              "    <tr>\n",
              "      <th>2</th>\n",
              "      <td>OAS2_0002</td>\n",
              "      <td>OAS2_0002_MR1</td>\n",
              "      <td>Demented</td>\n",
              "      <td>1</td>\n",
              "      <td>0</td>\n",
              "      <td>M</td>\n",
              "      <td>R</td>\n",
              "      <td>75</td>\n",
              "      <td>12</td>\n",
              "      <td>NaN</td>\n",
              "      <td>23.0</td>\n",
              "      <td>0.5</td>\n",
              "      <td>1678</td>\n",
              "      <td>0.736</td>\n",
              "      <td>1.046</td>\n",
              "    </tr>\n",
              "    <tr>\n",
              "      <th>3</th>\n",
              "      <td>OAS2_0002</td>\n",
              "      <td>OAS2_0002_MR2</td>\n",
              "      <td>Demented</td>\n",
              "      <td>2</td>\n",
              "      <td>560</td>\n",
              "      <td>M</td>\n",
              "      <td>R</td>\n",
              "      <td>76</td>\n",
              "      <td>12</td>\n",
              "      <td>NaN</td>\n",
              "      <td>28.0</td>\n",
              "      <td>0.5</td>\n",
              "      <td>1738</td>\n",
              "      <td>0.713</td>\n",
              "      <td>1.010</td>\n",
              "    </tr>\n",
              "    <tr>\n",
              "      <th>4</th>\n",
              "      <td>OAS2_0002</td>\n",
              "      <td>OAS2_0002_MR3</td>\n",
              "      <td>Demented</td>\n",
              "      <td>3</td>\n",
              "      <td>1895</td>\n",
              "      <td>M</td>\n",
              "      <td>R</td>\n",
              "      <td>80</td>\n",
              "      <td>12</td>\n",
              "      <td>NaN</td>\n",
              "      <td>22.0</td>\n",
              "      <td>0.5</td>\n",
              "      <td>1698</td>\n",
              "      <td>0.701</td>\n",
              "      <td>1.034</td>\n",
              "    </tr>\n",
              "  </tbody>\n",
              "</table>\n",
              "</div>"
            ],
            "text/plain": [
              "  Subject ID         MRI ID        Group  Visit  ...  CDR  eTIV   nWBV    ASF\n",
              "0  OAS2_0001  OAS2_0001_MR1  Nondemented      1  ...  0.0  1987  0.696  0.883\n",
              "1  OAS2_0001  OAS2_0001_MR2  Nondemented      2  ...  0.0  2004  0.681  0.876\n",
              "2  OAS2_0002  OAS2_0002_MR1     Demented      1  ...  0.5  1678  0.736  1.046\n",
              "3  OAS2_0002  OAS2_0002_MR2     Demented      2  ...  0.5  1738  0.713  1.010\n",
              "4  OAS2_0002  OAS2_0002_MR3     Demented      3  ...  0.5  1698  0.701  1.034\n",
              "\n",
              "[5 rows x 15 columns]"
            ]
          },
          "metadata": {
            "tags": []
          },
          "execution_count": 2
        }
      ]
    },
    {
      "cell_type": "markdown",
      "metadata": {
        "id": "C2SJVKDoc6Il",
        "colab_type": "text"
      },
      "source": [
        "<font size=\"4\">B) Exploring Characterisitics of Data - Initial Data Analysis"
      ]
    },
    {
      "cell_type": "code",
      "metadata": {
        "id": "yuNajypDc6Im",
        "colab_type": "code",
        "outputId": "121ef819-f3f5-4f2b-9807-6688051653fb",
        "colab": {
          "base_uri": "https://localhost:8080/",
          "height": 202
        }
      },
      "source": [
        "# only the ones with visit==1\n",
        "df = df.loc[df['Visit']==1]\n",
        "df.head()"
      ],
      "execution_count": 0,
      "outputs": [
        {
          "output_type": "execute_result",
          "data": {
            "text/html": [
              "<div>\n",
              "<style scoped>\n",
              "    .dataframe tbody tr th:only-of-type {\n",
              "        vertical-align: middle;\n",
              "    }\n",
              "\n",
              "    .dataframe tbody tr th {\n",
              "        vertical-align: top;\n",
              "    }\n",
              "\n",
              "    .dataframe thead th {\n",
              "        text-align: right;\n",
              "    }\n",
              "</style>\n",
              "<table border=\"1\" class=\"dataframe\">\n",
              "  <thead>\n",
              "    <tr style=\"text-align: right;\">\n",
              "      <th></th>\n",
              "      <th>Subject ID</th>\n",
              "      <th>MRI ID</th>\n",
              "      <th>Group</th>\n",
              "      <th>Visit</th>\n",
              "      <th>MR Delay</th>\n",
              "      <th>M/F</th>\n",
              "      <th>Hand</th>\n",
              "      <th>Age</th>\n",
              "      <th>EDUC</th>\n",
              "      <th>SES</th>\n",
              "      <th>MMSE</th>\n",
              "      <th>CDR</th>\n",
              "      <th>eTIV</th>\n",
              "      <th>nWBV</th>\n",
              "      <th>ASF</th>\n",
              "    </tr>\n",
              "  </thead>\n",
              "  <tbody>\n",
              "    <tr>\n",
              "      <th>0</th>\n",
              "      <td>OAS2_0001</td>\n",
              "      <td>OAS2_0001_MR1</td>\n",
              "      <td>Nondemented</td>\n",
              "      <td>1</td>\n",
              "      <td>0</td>\n",
              "      <td>M</td>\n",
              "      <td>R</td>\n",
              "      <td>87</td>\n",
              "      <td>14</td>\n",
              "      <td>2.0</td>\n",
              "      <td>27.0</td>\n",
              "      <td>0.0</td>\n",
              "      <td>1987</td>\n",
              "      <td>0.696</td>\n",
              "      <td>0.883</td>\n",
              "    </tr>\n",
              "    <tr>\n",
              "      <th>2</th>\n",
              "      <td>OAS2_0002</td>\n",
              "      <td>OAS2_0002_MR1</td>\n",
              "      <td>Demented</td>\n",
              "      <td>1</td>\n",
              "      <td>0</td>\n",
              "      <td>M</td>\n",
              "      <td>R</td>\n",
              "      <td>75</td>\n",
              "      <td>12</td>\n",
              "      <td>NaN</td>\n",
              "      <td>23.0</td>\n",
              "      <td>0.5</td>\n",
              "      <td>1678</td>\n",
              "      <td>0.736</td>\n",
              "      <td>1.046</td>\n",
              "    </tr>\n",
              "    <tr>\n",
              "      <th>5</th>\n",
              "      <td>OAS2_0004</td>\n",
              "      <td>OAS2_0004_MR1</td>\n",
              "      <td>Nondemented</td>\n",
              "      <td>1</td>\n",
              "      <td>0</td>\n",
              "      <td>F</td>\n",
              "      <td>R</td>\n",
              "      <td>88</td>\n",
              "      <td>18</td>\n",
              "      <td>3.0</td>\n",
              "      <td>28.0</td>\n",
              "      <td>0.0</td>\n",
              "      <td>1215</td>\n",
              "      <td>0.710</td>\n",
              "      <td>1.444</td>\n",
              "    </tr>\n",
              "    <tr>\n",
              "      <th>7</th>\n",
              "      <td>OAS2_0005</td>\n",
              "      <td>OAS2_0005_MR1</td>\n",
              "      <td>Nondemented</td>\n",
              "      <td>1</td>\n",
              "      <td>0</td>\n",
              "      <td>M</td>\n",
              "      <td>R</td>\n",
              "      <td>80</td>\n",
              "      <td>12</td>\n",
              "      <td>4.0</td>\n",
              "      <td>28.0</td>\n",
              "      <td>0.0</td>\n",
              "      <td>1689</td>\n",
              "      <td>0.712</td>\n",
              "      <td>1.039</td>\n",
              "    </tr>\n",
              "    <tr>\n",
              "      <th>10</th>\n",
              "      <td>OAS2_0007</td>\n",
              "      <td>OAS2_0007_MR1</td>\n",
              "      <td>Demented</td>\n",
              "      <td>1</td>\n",
              "      <td>0</td>\n",
              "      <td>M</td>\n",
              "      <td>R</td>\n",
              "      <td>71</td>\n",
              "      <td>16</td>\n",
              "      <td>NaN</td>\n",
              "      <td>28.0</td>\n",
              "      <td>0.5</td>\n",
              "      <td>1357</td>\n",
              "      <td>0.748</td>\n",
              "      <td>1.293</td>\n",
              "    </tr>\n",
              "  </tbody>\n",
              "</table>\n",
              "</div>"
            ],
            "text/plain": [
              "   Subject ID         MRI ID        Group  Visit  ...  CDR  eTIV   nWBV    ASF\n",
              "0   OAS2_0001  OAS2_0001_MR1  Nondemented      1  ...  0.0  1987  0.696  0.883\n",
              "2   OAS2_0002  OAS2_0002_MR1     Demented      1  ...  0.5  1678  0.736  1.046\n",
              "5   OAS2_0004  OAS2_0004_MR1  Nondemented      1  ...  0.0  1215  0.710  1.444\n",
              "7   OAS2_0005  OAS2_0005_MR1  Nondemented      1  ...  0.0  1689  0.712  1.039\n",
              "10  OAS2_0007  OAS2_0007_MR1     Demented      1  ...  0.5  1357  0.748  1.293\n",
              "\n",
              "[5 rows x 15 columns]"
            ]
          },
          "metadata": {
            "tags": []
          },
          "execution_count": 3
        }
      ]
    },
    {
      "cell_type": "code",
      "metadata": {
        "id": "pPd3ebaFc6Iv",
        "colab_type": "code",
        "outputId": "431eaa2d-85dc-4064-ea1b-358c6d21d476",
        "colab": {
          "base_uri": "https://localhost:8080/",
          "height": 355
        }
      },
      "source": [
        "# reset index after filtering first visit data\n",
        "df = df.reset_index(drop=True)\n",
        "df.head(10)"
      ],
      "execution_count": 0,
      "outputs": [
        {
          "output_type": "execute_result",
          "data": {
            "text/html": [
              "<div>\n",
              "<style scoped>\n",
              "    .dataframe tbody tr th:only-of-type {\n",
              "        vertical-align: middle;\n",
              "    }\n",
              "\n",
              "    .dataframe tbody tr th {\n",
              "        vertical-align: top;\n",
              "    }\n",
              "\n",
              "    .dataframe thead th {\n",
              "        text-align: right;\n",
              "    }\n",
              "</style>\n",
              "<table border=\"1\" class=\"dataframe\">\n",
              "  <thead>\n",
              "    <tr style=\"text-align: right;\">\n",
              "      <th></th>\n",
              "      <th>Subject ID</th>\n",
              "      <th>MRI ID</th>\n",
              "      <th>Group</th>\n",
              "      <th>Visit</th>\n",
              "      <th>MR Delay</th>\n",
              "      <th>M/F</th>\n",
              "      <th>Hand</th>\n",
              "      <th>Age</th>\n",
              "      <th>EDUC</th>\n",
              "      <th>SES</th>\n",
              "      <th>MMSE</th>\n",
              "      <th>CDR</th>\n",
              "      <th>eTIV</th>\n",
              "      <th>nWBV</th>\n",
              "      <th>ASF</th>\n",
              "    </tr>\n",
              "  </thead>\n",
              "  <tbody>\n",
              "    <tr>\n",
              "      <th>0</th>\n",
              "      <td>OAS2_0001</td>\n",
              "      <td>OAS2_0001_MR1</td>\n",
              "      <td>Nondemented</td>\n",
              "      <td>1</td>\n",
              "      <td>0</td>\n",
              "      <td>M</td>\n",
              "      <td>R</td>\n",
              "      <td>87</td>\n",
              "      <td>14</td>\n",
              "      <td>2.0</td>\n",
              "      <td>27.0</td>\n",
              "      <td>0.0</td>\n",
              "      <td>1987</td>\n",
              "      <td>0.696</td>\n",
              "      <td>0.883</td>\n",
              "    </tr>\n",
              "    <tr>\n",
              "      <th>1</th>\n",
              "      <td>OAS2_0002</td>\n",
              "      <td>OAS2_0002_MR1</td>\n",
              "      <td>Demented</td>\n",
              "      <td>1</td>\n",
              "      <td>0</td>\n",
              "      <td>M</td>\n",
              "      <td>R</td>\n",
              "      <td>75</td>\n",
              "      <td>12</td>\n",
              "      <td>NaN</td>\n",
              "      <td>23.0</td>\n",
              "      <td>0.5</td>\n",
              "      <td>1678</td>\n",
              "      <td>0.736</td>\n",
              "      <td>1.046</td>\n",
              "    </tr>\n",
              "    <tr>\n",
              "      <th>2</th>\n",
              "      <td>OAS2_0004</td>\n",
              "      <td>OAS2_0004_MR1</td>\n",
              "      <td>Nondemented</td>\n",
              "      <td>1</td>\n",
              "      <td>0</td>\n",
              "      <td>F</td>\n",
              "      <td>R</td>\n",
              "      <td>88</td>\n",
              "      <td>18</td>\n",
              "      <td>3.0</td>\n",
              "      <td>28.0</td>\n",
              "      <td>0.0</td>\n",
              "      <td>1215</td>\n",
              "      <td>0.710</td>\n",
              "      <td>1.444</td>\n",
              "    </tr>\n",
              "    <tr>\n",
              "      <th>3</th>\n",
              "      <td>OAS2_0005</td>\n",
              "      <td>OAS2_0005_MR1</td>\n",
              "      <td>Nondemented</td>\n",
              "      <td>1</td>\n",
              "      <td>0</td>\n",
              "      <td>M</td>\n",
              "      <td>R</td>\n",
              "      <td>80</td>\n",
              "      <td>12</td>\n",
              "      <td>4.0</td>\n",
              "      <td>28.0</td>\n",
              "      <td>0.0</td>\n",
              "      <td>1689</td>\n",
              "      <td>0.712</td>\n",
              "      <td>1.039</td>\n",
              "    </tr>\n",
              "    <tr>\n",
              "      <th>4</th>\n",
              "      <td>OAS2_0007</td>\n",
              "      <td>OAS2_0007_MR1</td>\n",
              "      <td>Demented</td>\n",
              "      <td>1</td>\n",
              "      <td>0</td>\n",
              "      <td>M</td>\n",
              "      <td>R</td>\n",
              "      <td>71</td>\n",
              "      <td>16</td>\n",
              "      <td>NaN</td>\n",
              "      <td>28.0</td>\n",
              "      <td>0.5</td>\n",
              "      <td>1357</td>\n",
              "      <td>0.748</td>\n",
              "      <td>1.293</td>\n",
              "    </tr>\n",
              "    <tr>\n",
              "      <th>5</th>\n",
              "      <td>OAS2_0008</td>\n",
              "      <td>OAS2_0008_MR1</td>\n",
              "      <td>Nondemented</td>\n",
              "      <td>1</td>\n",
              "      <td>0</td>\n",
              "      <td>F</td>\n",
              "      <td>R</td>\n",
              "      <td>93</td>\n",
              "      <td>14</td>\n",
              "      <td>2.0</td>\n",
              "      <td>30.0</td>\n",
              "      <td>0.0</td>\n",
              "      <td>1272</td>\n",
              "      <td>0.698</td>\n",
              "      <td>1.380</td>\n",
              "    </tr>\n",
              "    <tr>\n",
              "      <th>6</th>\n",
              "      <td>OAS2_0009</td>\n",
              "      <td>OAS2_0009_MR1</td>\n",
              "      <td>Demented</td>\n",
              "      <td>1</td>\n",
              "      <td>0</td>\n",
              "      <td>M</td>\n",
              "      <td>R</td>\n",
              "      <td>68</td>\n",
              "      <td>12</td>\n",
              "      <td>2.0</td>\n",
              "      <td>27.0</td>\n",
              "      <td>0.5</td>\n",
              "      <td>1457</td>\n",
              "      <td>0.806</td>\n",
              "      <td>1.205</td>\n",
              "    </tr>\n",
              "    <tr>\n",
              "      <th>7</th>\n",
              "      <td>OAS2_0010</td>\n",
              "      <td>OAS2_0010_MR1</td>\n",
              "      <td>Demented</td>\n",
              "      <td>1</td>\n",
              "      <td>0</td>\n",
              "      <td>F</td>\n",
              "      <td>R</td>\n",
              "      <td>66</td>\n",
              "      <td>12</td>\n",
              "      <td>3.0</td>\n",
              "      <td>30.0</td>\n",
              "      <td>0.5</td>\n",
              "      <td>1447</td>\n",
              "      <td>0.769</td>\n",
              "      <td>1.213</td>\n",
              "    </tr>\n",
              "    <tr>\n",
              "      <th>8</th>\n",
              "      <td>OAS2_0012</td>\n",
              "      <td>OAS2_0012_MR1</td>\n",
              "      <td>Nondemented</td>\n",
              "      <td>1</td>\n",
              "      <td>0</td>\n",
              "      <td>F</td>\n",
              "      <td>R</td>\n",
              "      <td>78</td>\n",
              "      <td>16</td>\n",
              "      <td>2.0</td>\n",
              "      <td>29.0</td>\n",
              "      <td>0.0</td>\n",
              "      <td>1333</td>\n",
              "      <td>0.748</td>\n",
              "      <td>1.316</td>\n",
              "    </tr>\n",
              "    <tr>\n",
              "      <th>9</th>\n",
              "      <td>OAS2_0013</td>\n",
              "      <td>OAS2_0013_MR1</td>\n",
              "      <td>Nondemented</td>\n",
              "      <td>1</td>\n",
              "      <td>0</td>\n",
              "      <td>F</td>\n",
              "      <td>R</td>\n",
              "      <td>81</td>\n",
              "      <td>12</td>\n",
              "      <td>4.0</td>\n",
              "      <td>30.0</td>\n",
              "      <td>0.0</td>\n",
              "      <td>1230</td>\n",
              "      <td>0.715</td>\n",
              "      <td>1.427</td>\n",
              "    </tr>\n",
              "  </tbody>\n",
              "</table>\n",
              "</div>"
            ],
            "text/plain": [
              "  Subject ID         MRI ID        Group  Visit  ...  CDR  eTIV   nWBV    ASF\n",
              "0  OAS2_0001  OAS2_0001_MR1  Nondemented      1  ...  0.0  1987  0.696  0.883\n",
              "1  OAS2_0002  OAS2_0002_MR1     Demented      1  ...  0.5  1678  0.736  1.046\n",
              "2  OAS2_0004  OAS2_0004_MR1  Nondemented      1  ...  0.0  1215  0.710  1.444\n",
              "3  OAS2_0005  OAS2_0005_MR1  Nondemented      1  ...  0.0  1689  0.712  1.039\n",
              "4  OAS2_0007  OAS2_0007_MR1     Demented      1  ...  0.5  1357  0.748  1.293\n",
              "5  OAS2_0008  OAS2_0008_MR1  Nondemented      1  ...  0.0  1272  0.698  1.380\n",
              "6  OAS2_0009  OAS2_0009_MR1     Demented      1  ...  0.5  1457  0.806  1.205\n",
              "7  OAS2_0010  OAS2_0010_MR1     Demented      1  ...  0.5  1447  0.769  1.213\n",
              "8  OAS2_0012  OAS2_0012_MR1  Nondemented      1  ...  0.0  1333  0.748  1.316\n",
              "9  OAS2_0013  OAS2_0013_MR1  Nondemented      1  ...  0.0  1230  0.715  1.427\n",
              "\n",
              "[10 rows x 15 columns]"
            ]
          },
          "metadata": {
            "tags": []
          },
          "execution_count": 4
        }
      ]
    },
    {
      "cell_type": "code",
      "metadata": {
        "id": "0M9YbGd2c6I2",
        "colab_type": "code",
        "outputId": "afa56506-e882-4042-dbb8-0da45de1b4d3",
        "colab": {
          "base_uri": "https://localhost:8080/",
          "height": 509
        }
      },
      "source": [
        "# replace M and F with 1 and 0\n",
        "df['M/F'] = df['M/F'].replace(['F','M'], [0,1])\n",
        "df.head(15)"
      ],
      "execution_count": 0,
      "outputs": [
        {
          "output_type": "execute_result",
          "data": {
            "text/html": [
              "<div>\n",
              "<style scoped>\n",
              "    .dataframe tbody tr th:only-of-type {\n",
              "        vertical-align: middle;\n",
              "    }\n",
              "\n",
              "    .dataframe tbody tr th {\n",
              "        vertical-align: top;\n",
              "    }\n",
              "\n",
              "    .dataframe thead th {\n",
              "        text-align: right;\n",
              "    }\n",
              "</style>\n",
              "<table border=\"1\" class=\"dataframe\">\n",
              "  <thead>\n",
              "    <tr style=\"text-align: right;\">\n",
              "      <th></th>\n",
              "      <th>Subject ID</th>\n",
              "      <th>MRI ID</th>\n",
              "      <th>Group</th>\n",
              "      <th>Visit</th>\n",
              "      <th>MR Delay</th>\n",
              "      <th>M/F</th>\n",
              "      <th>Hand</th>\n",
              "      <th>Age</th>\n",
              "      <th>EDUC</th>\n",
              "      <th>SES</th>\n",
              "      <th>MMSE</th>\n",
              "      <th>CDR</th>\n",
              "      <th>eTIV</th>\n",
              "      <th>nWBV</th>\n",
              "      <th>ASF</th>\n",
              "    </tr>\n",
              "  </thead>\n",
              "  <tbody>\n",
              "    <tr>\n",
              "      <th>0</th>\n",
              "      <td>OAS2_0001</td>\n",
              "      <td>OAS2_0001_MR1</td>\n",
              "      <td>Nondemented</td>\n",
              "      <td>1</td>\n",
              "      <td>0</td>\n",
              "      <td>1</td>\n",
              "      <td>R</td>\n",
              "      <td>87</td>\n",
              "      <td>14</td>\n",
              "      <td>2.0</td>\n",
              "      <td>27.0</td>\n",
              "      <td>0.0</td>\n",
              "      <td>1987</td>\n",
              "      <td>0.696</td>\n",
              "      <td>0.883</td>\n",
              "    </tr>\n",
              "    <tr>\n",
              "      <th>1</th>\n",
              "      <td>OAS2_0002</td>\n",
              "      <td>OAS2_0002_MR1</td>\n",
              "      <td>Demented</td>\n",
              "      <td>1</td>\n",
              "      <td>0</td>\n",
              "      <td>1</td>\n",
              "      <td>R</td>\n",
              "      <td>75</td>\n",
              "      <td>12</td>\n",
              "      <td>NaN</td>\n",
              "      <td>23.0</td>\n",
              "      <td>0.5</td>\n",
              "      <td>1678</td>\n",
              "      <td>0.736</td>\n",
              "      <td>1.046</td>\n",
              "    </tr>\n",
              "    <tr>\n",
              "      <th>2</th>\n",
              "      <td>OAS2_0004</td>\n",
              "      <td>OAS2_0004_MR1</td>\n",
              "      <td>Nondemented</td>\n",
              "      <td>1</td>\n",
              "      <td>0</td>\n",
              "      <td>0</td>\n",
              "      <td>R</td>\n",
              "      <td>88</td>\n",
              "      <td>18</td>\n",
              "      <td>3.0</td>\n",
              "      <td>28.0</td>\n",
              "      <td>0.0</td>\n",
              "      <td>1215</td>\n",
              "      <td>0.710</td>\n",
              "      <td>1.444</td>\n",
              "    </tr>\n",
              "    <tr>\n",
              "      <th>3</th>\n",
              "      <td>OAS2_0005</td>\n",
              "      <td>OAS2_0005_MR1</td>\n",
              "      <td>Nondemented</td>\n",
              "      <td>1</td>\n",
              "      <td>0</td>\n",
              "      <td>1</td>\n",
              "      <td>R</td>\n",
              "      <td>80</td>\n",
              "      <td>12</td>\n",
              "      <td>4.0</td>\n",
              "      <td>28.0</td>\n",
              "      <td>0.0</td>\n",
              "      <td>1689</td>\n",
              "      <td>0.712</td>\n",
              "      <td>1.039</td>\n",
              "    </tr>\n",
              "    <tr>\n",
              "      <th>4</th>\n",
              "      <td>OAS2_0007</td>\n",
              "      <td>OAS2_0007_MR1</td>\n",
              "      <td>Demented</td>\n",
              "      <td>1</td>\n",
              "      <td>0</td>\n",
              "      <td>1</td>\n",
              "      <td>R</td>\n",
              "      <td>71</td>\n",
              "      <td>16</td>\n",
              "      <td>NaN</td>\n",
              "      <td>28.0</td>\n",
              "      <td>0.5</td>\n",
              "      <td>1357</td>\n",
              "      <td>0.748</td>\n",
              "      <td>1.293</td>\n",
              "    </tr>\n",
              "    <tr>\n",
              "      <th>5</th>\n",
              "      <td>OAS2_0008</td>\n",
              "      <td>OAS2_0008_MR1</td>\n",
              "      <td>Nondemented</td>\n",
              "      <td>1</td>\n",
              "      <td>0</td>\n",
              "      <td>0</td>\n",
              "      <td>R</td>\n",
              "      <td>93</td>\n",
              "      <td>14</td>\n",
              "      <td>2.0</td>\n",
              "      <td>30.0</td>\n",
              "      <td>0.0</td>\n",
              "      <td>1272</td>\n",
              "      <td>0.698</td>\n",
              "      <td>1.380</td>\n",
              "    </tr>\n",
              "    <tr>\n",
              "      <th>6</th>\n",
              "      <td>OAS2_0009</td>\n",
              "      <td>OAS2_0009_MR1</td>\n",
              "      <td>Demented</td>\n",
              "      <td>1</td>\n",
              "      <td>0</td>\n",
              "      <td>1</td>\n",
              "      <td>R</td>\n",
              "      <td>68</td>\n",
              "      <td>12</td>\n",
              "      <td>2.0</td>\n",
              "      <td>27.0</td>\n",
              "      <td>0.5</td>\n",
              "      <td>1457</td>\n",
              "      <td>0.806</td>\n",
              "      <td>1.205</td>\n",
              "    </tr>\n",
              "    <tr>\n",
              "      <th>7</th>\n",
              "      <td>OAS2_0010</td>\n",
              "      <td>OAS2_0010_MR1</td>\n",
              "      <td>Demented</td>\n",
              "      <td>1</td>\n",
              "      <td>0</td>\n",
              "      <td>0</td>\n",
              "      <td>R</td>\n",
              "      <td>66</td>\n",
              "      <td>12</td>\n",
              "      <td>3.0</td>\n",
              "      <td>30.0</td>\n",
              "      <td>0.5</td>\n",
              "      <td>1447</td>\n",
              "      <td>0.769</td>\n",
              "      <td>1.213</td>\n",
              "    </tr>\n",
              "    <tr>\n",
              "      <th>8</th>\n",
              "      <td>OAS2_0012</td>\n",
              "      <td>OAS2_0012_MR1</td>\n",
              "      <td>Nondemented</td>\n",
              "      <td>1</td>\n",
              "      <td>0</td>\n",
              "      <td>0</td>\n",
              "      <td>R</td>\n",
              "      <td>78</td>\n",
              "      <td>16</td>\n",
              "      <td>2.0</td>\n",
              "      <td>29.0</td>\n",
              "      <td>0.0</td>\n",
              "      <td>1333</td>\n",
              "      <td>0.748</td>\n",
              "      <td>1.316</td>\n",
              "    </tr>\n",
              "    <tr>\n",
              "      <th>9</th>\n",
              "      <td>OAS2_0013</td>\n",
              "      <td>OAS2_0013_MR1</td>\n",
              "      <td>Nondemented</td>\n",
              "      <td>1</td>\n",
              "      <td>0</td>\n",
              "      <td>0</td>\n",
              "      <td>R</td>\n",
              "      <td>81</td>\n",
              "      <td>12</td>\n",
              "      <td>4.0</td>\n",
              "      <td>30.0</td>\n",
              "      <td>0.0</td>\n",
              "      <td>1230</td>\n",
              "      <td>0.715</td>\n",
              "      <td>1.427</td>\n",
              "    </tr>\n",
              "    <tr>\n",
              "      <th>10</th>\n",
              "      <td>OAS2_0014</td>\n",
              "      <td>OAS2_0014_MR1</td>\n",
              "      <td>Demented</td>\n",
              "      <td>1</td>\n",
              "      <td>0</td>\n",
              "      <td>1</td>\n",
              "      <td>R</td>\n",
              "      <td>76</td>\n",
              "      <td>16</td>\n",
              "      <td>3.0</td>\n",
              "      <td>21.0</td>\n",
              "      <td>0.5</td>\n",
              "      <td>1602</td>\n",
              "      <td>0.697</td>\n",
              "      <td>1.096</td>\n",
              "    </tr>\n",
              "    <tr>\n",
              "      <th>11</th>\n",
              "      <td>OAS2_0016</td>\n",
              "      <td>OAS2_0016_MR1</td>\n",
              "      <td>Demented</td>\n",
              "      <td>1</td>\n",
              "      <td>0</td>\n",
              "      <td>1</td>\n",
              "      <td>R</td>\n",
              "      <td>88</td>\n",
              "      <td>8</td>\n",
              "      <td>4.0</td>\n",
              "      <td>25.0</td>\n",
              "      <td>0.5</td>\n",
              "      <td>1651</td>\n",
              "      <td>0.660</td>\n",
              "      <td>1.063</td>\n",
              "    </tr>\n",
              "    <tr>\n",
              "      <th>12</th>\n",
              "      <td>OAS2_0017</td>\n",
              "      <td>OAS2_0017_MR1</td>\n",
              "      <td>Nondemented</td>\n",
              "      <td>1</td>\n",
              "      <td>0</td>\n",
              "      <td>1</td>\n",
              "      <td>R</td>\n",
              "      <td>80</td>\n",
              "      <td>12</td>\n",
              "      <td>3.0</td>\n",
              "      <td>29.0</td>\n",
              "      <td>0.0</td>\n",
              "      <td>1783</td>\n",
              "      <td>0.752</td>\n",
              "      <td>0.985</td>\n",
              "    </tr>\n",
              "    <tr>\n",
              "      <th>13</th>\n",
              "      <td>OAS2_0018</td>\n",
              "      <td>OAS2_0018_MR1</td>\n",
              "      <td>Converted</td>\n",
              "      <td>1</td>\n",
              "      <td>0</td>\n",
              "      <td>0</td>\n",
              "      <td>R</td>\n",
              "      <td>87</td>\n",
              "      <td>14</td>\n",
              "      <td>1.0</td>\n",
              "      <td>30.0</td>\n",
              "      <td>0.0</td>\n",
              "      <td>1406</td>\n",
              "      <td>0.715</td>\n",
              "      <td>1.248</td>\n",
              "    </tr>\n",
              "    <tr>\n",
              "      <th>14</th>\n",
              "      <td>OAS2_0020</td>\n",
              "      <td>OAS2_0020_MR1</td>\n",
              "      <td>Converted</td>\n",
              "      <td>1</td>\n",
              "      <td>0</td>\n",
              "      <td>1</td>\n",
              "      <td>R</td>\n",
              "      <td>80</td>\n",
              "      <td>20</td>\n",
              "      <td>1.0</td>\n",
              "      <td>29.0</td>\n",
              "      <td>0.0</td>\n",
              "      <td>1587</td>\n",
              "      <td>0.693</td>\n",
              "      <td>1.106</td>\n",
              "    </tr>\n",
              "  </tbody>\n",
              "</table>\n",
              "</div>"
            ],
            "text/plain": [
              "   Subject ID         MRI ID        Group  Visit  ...  CDR  eTIV   nWBV    ASF\n",
              "0   OAS2_0001  OAS2_0001_MR1  Nondemented      1  ...  0.0  1987  0.696  0.883\n",
              "1   OAS2_0002  OAS2_0002_MR1     Demented      1  ...  0.5  1678  0.736  1.046\n",
              "2   OAS2_0004  OAS2_0004_MR1  Nondemented      1  ...  0.0  1215  0.710  1.444\n",
              "3   OAS2_0005  OAS2_0005_MR1  Nondemented      1  ...  0.0  1689  0.712  1.039\n",
              "4   OAS2_0007  OAS2_0007_MR1     Demented      1  ...  0.5  1357  0.748  1.293\n",
              "5   OAS2_0008  OAS2_0008_MR1  Nondemented      1  ...  0.0  1272  0.698  1.380\n",
              "6   OAS2_0009  OAS2_0009_MR1     Demented      1  ...  0.5  1457  0.806  1.205\n",
              "7   OAS2_0010  OAS2_0010_MR1     Demented      1  ...  0.5  1447  0.769  1.213\n",
              "8   OAS2_0012  OAS2_0012_MR1  Nondemented      1  ...  0.0  1333  0.748  1.316\n",
              "9   OAS2_0013  OAS2_0013_MR1  Nondemented      1  ...  0.0  1230  0.715  1.427\n",
              "10  OAS2_0014  OAS2_0014_MR1     Demented      1  ...  0.5  1602  0.697  1.096\n",
              "11  OAS2_0016  OAS2_0016_MR1     Demented      1  ...  0.5  1651  0.660  1.063\n",
              "12  OAS2_0017  OAS2_0017_MR1  Nondemented      1  ...  0.0  1783  0.752  0.985\n",
              "13  OAS2_0018  OAS2_0018_MR1    Converted      1  ...  0.0  1406  0.715  1.248\n",
              "14  OAS2_0020  OAS2_0020_MR1    Converted      1  ...  0.0  1587  0.693  1.106\n",
              "\n",
              "[15 rows x 15 columns]"
            ]
          },
          "metadata": {
            "tags": []
          },
          "execution_count": 5
        }
      ]
    },
    {
      "cell_type": "code",
      "metadata": {
        "id": "YljNFhlYc6I_",
        "colab_type": "code",
        "outputId": "02acaea2-2dbf-40f2-8655-15c07a8ff7db",
        "colab": {
          "base_uri": "https://localhost:8080/",
          "height": 509
        }
      },
      "source": [
        "# Target variable\n",
        "df['Group'] = df['Group'].replace(['Converted'], ['Demented'])\n",
        "df['Classification'] = df['Group']\n",
        "df['Group'] = df['Group'].replace(['Demented', 'Nondemented'], [1,0])\n",
        "# Drop unnecessary columns\n",
        "df = df.drop(['MRI ID', 'Visit', 'Hand'], axis=1)\n",
        "df.head(15)"
      ],
      "execution_count": 0,
      "outputs": [
        {
          "output_type": "execute_result",
          "data": {
            "text/html": [
              "<div>\n",
              "<style scoped>\n",
              "    .dataframe tbody tr th:only-of-type {\n",
              "        vertical-align: middle;\n",
              "    }\n",
              "\n",
              "    .dataframe tbody tr th {\n",
              "        vertical-align: top;\n",
              "    }\n",
              "\n",
              "    .dataframe thead th {\n",
              "        text-align: right;\n",
              "    }\n",
              "</style>\n",
              "<table border=\"1\" class=\"dataframe\">\n",
              "  <thead>\n",
              "    <tr style=\"text-align: right;\">\n",
              "      <th></th>\n",
              "      <th>Subject ID</th>\n",
              "      <th>Group</th>\n",
              "      <th>MR Delay</th>\n",
              "      <th>M/F</th>\n",
              "      <th>Age</th>\n",
              "      <th>EDUC</th>\n",
              "      <th>SES</th>\n",
              "      <th>MMSE</th>\n",
              "      <th>CDR</th>\n",
              "      <th>eTIV</th>\n",
              "      <th>nWBV</th>\n",
              "      <th>ASF</th>\n",
              "      <th>Classification</th>\n",
              "    </tr>\n",
              "  </thead>\n",
              "  <tbody>\n",
              "    <tr>\n",
              "      <th>0</th>\n",
              "      <td>OAS2_0001</td>\n",
              "      <td>0</td>\n",
              "      <td>0</td>\n",
              "      <td>1</td>\n",
              "      <td>87</td>\n",
              "      <td>14</td>\n",
              "      <td>2.0</td>\n",
              "      <td>27.0</td>\n",
              "      <td>0.0</td>\n",
              "      <td>1987</td>\n",
              "      <td>0.696</td>\n",
              "      <td>0.883</td>\n",
              "      <td>Nondemented</td>\n",
              "    </tr>\n",
              "    <tr>\n",
              "      <th>1</th>\n",
              "      <td>OAS2_0002</td>\n",
              "      <td>1</td>\n",
              "      <td>0</td>\n",
              "      <td>1</td>\n",
              "      <td>75</td>\n",
              "      <td>12</td>\n",
              "      <td>NaN</td>\n",
              "      <td>23.0</td>\n",
              "      <td>0.5</td>\n",
              "      <td>1678</td>\n",
              "      <td>0.736</td>\n",
              "      <td>1.046</td>\n",
              "      <td>Demented</td>\n",
              "    </tr>\n",
              "    <tr>\n",
              "      <th>2</th>\n",
              "      <td>OAS2_0004</td>\n",
              "      <td>0</td>\n",
              "      <td>0</td>\n",
              "      <td>0</td>\n",
              "      <td>88</td>\n",
              "      <td>18</td>\n",
              "      <td>3.0</td>\n",
              "      <td>28.0</td>\n",
              "      <td>0.0</td>\n",
              "      <td>1215</td>\n",
              "      <td>0.710</td>\n",
              "      <td>1.444</td>\n",
              "      <td>Nondemented</td>\n",
              "    </tr>\n",
              "    <tr>\n",
              "      <th>3</th>\n",
              "      <td>OAS2_0005</td>\n",
              "      <td>0</td>\n",
              "      <td>0</td>\n",
              "      <td>1</td>\n",
              "      <td>80</td>\n",
              "      <td>12</td>\n",
              "      <td>4.0</td>\n",
              "      <td>28.0</td>\n",
              "      <td>0.0</td>\n",
              "      <td>1689</td>\n",
              "      <td>0.712</td>\n",
              "      <td>1.039</td>\n",
              "      <td>Nondemented</td>\n",
              "    </tr>\n",
              "    <tr>\n",
              "      <th>4</th>\n",
              "      <td>OAS2_0007</td>\n",
              "      <td>1</td>\n",
              "      <td>0</td>\n",
              "      <td>1</td>\n",
              "      <td>71</td>\n",
              "      <td>16</td>\n",
              "      <td>NaN</td>\n",
              "      <td>28.0</td>\n",
              "      <td>0.5</td>\n",
              "      <td>1357</td>\n",
              "      <td>0.748</td>\n",
              "      <td>1.293</td>\n",
              "      <td>Demented</td>\n",
              "    </tr>\n",
              "    <tr>\n",
              "      <th>5</th>\n",
              "      <td>OAS2_0008</td>\n",
              "      <td>0</td>\n",
              "      <td>0</td>\n",
              "      <td>0</td>\n",
              "      <td>93</td>\n",
              "      <td>14</td>\n",
              "      <td>2.0</td>\n",
              "      <td>30.0</td>\n",
              "      <td>0.0</td>\n",
              "      <td>1272</td>\n",
              "      <td>0.698</td>\n",
              "      <td>1.380</td>\n",
              "      <td>Nondemented</td>\n",
              "    </tr>\n",
              "    <tr>\n",
              "      <th>6</th>\n",
              "      <td>OAS2_0009</td>\n",
              "      <td>1</td>\n",
              "      <td>0</td>\n",
              "      <td>1</td>\n",
              "      <td>68</td>\n",
              "      <td>12</td>\n",
              "      <td>2.0</td>\n",
              "      <td>27.0</td>\n",
              "      <td>0.5</td>\n",
              "      <td>1457</td>\n",
              "      <td>0.806</td>\n",
              "      <td>1.205</td>\n",
              "      <td>Demented</td>\n",
              "    </tr>\n",
              "    <tr>\n",
              "      <th>7</th>\n",
              "      <td>OAS2_0010</td>\n",
              "      <td>1</td>\n",
              "      <td>0</td>\n",
              "      <td>0</td>\n",
              "      <td>66</td>\n",
              "      <td>12</td>\n",
              "      <td>3.0</td>\n",
              "      <td>30.0</td>\n",
              "      <td>0.5</td>\n",
              "      <td>1447</td>\n",
              "      <td>0.769</td>\n",
              "      <td>1.213</td>\n",
              "      <td>Demented</td>\n",
              "    </tr>\n",
              "    <tr>\n",
              "      <th>8</th>\n",
              "      <td>OAS2_0012</td>\n",
              "      <td>0</td>\n",
              "      <td>0</td>\n",
              "      <td>0</td>\n",
              "      <td>78</td>\n",
              "      <td>16</td>\n",
              "      <td>2.0</td>\n",
              "      <td>29.0</td>\n",
              "      <td>0.0</td>\n",
              "      <td>1333</td>\n",
              "      <td>0.748</td>\n",
              "      <td>1.316</td>\n",
              "      <td>Nondemented</td>\n",
              "    </tr>\n",
              "    <tr>\n",
              "      <th>9</th>\n",
              "      <td>OAS2_0013</td>\n",
              "      <td>0</td>\n",
              "      <td>0</td>\n",
              "      <td>0</td>\n",
              "      <td>81</td>\n",
              "      <td>12</td>\n",
              "      <td>4.0</td>\n",
              "      <td>30.0</td>\n",
              "      <td>0.0</td>\n",
              "      <td>1230</td>\n",
              "      <td>0.715</td>\n",
              "      <td>1.427</td>\n",
              "      <td>Nondemented</td>\n",
              "    </tr>\n",
              "    <tr>\n",
              "      <th>10</th>\n",
              "      <td>OAS2_0014</td>\n",
              "      <td>1</td>\n",
              "      <td>0</td>\n",
              "      <td>1</td>\n",
              "      <td>76</td>\n",
              "      <td>16</td>\n",
              "      <td>3.0</td>\n",
              "      <td>21.0</td>\n",
              "      <td>0.5</td>\n",
              "      <td>1602</td>\n",
              "      <td>0.697</td>\n",
              "      <td>1.096</td>\n",
              "      <td>Demented</td>\n",
              "    </tr>\n",
              "    <tr>\n",
              "      <th>11</th>\n",
              "      <td>OAS2_0016</td>\n",
              "      <td>1</td>\n",
              "      <td>0</td>\n",
              "      <td>1</td>\n",
              "      <td>88</td>\n",
              "      <td>8</td>\n",
              "      <td>4.0</td>\n",
              "      <td>25.0</td>\n",
              "      <td>0.5</td>\n",
              "      <td>1651</td>\n",
              "      <td>0.660</td>\n",
              "      <td>1.063</td>\n",
              "      <td>Demented</td>\n",
              "    </tr>\n",
              "    <tr>\n",
              "      <th>12</th>\n",
              "      <td>OAS2_0017</td>\n",
              "      <td>0</td>\n",
              "      <td>0</td>\n",
              "      <td>1</td>\n",
              "      <td>80</td>\n",
              "      <td>12</td>\n",
              "      <td>3.0</td>\n",
              "      <td>29.0</td>\n",
              "      <td>0.0</td>\n",
              "      <td>1783</td>\n",
              "      <td>0.752</td>\n",
              "      <td>0.985</td>\n",
              "      <td>Nondemented</td>\n",
              "    </tr>\n",
              "    <tr>\n",
              "      <th>13</th>\n",
              "      <td>OAS2_0018</td>\n",
              "      <td>1</td>\n",
              "      <td>0</td>\n",
              "      <td>0</td>\n",
              "      <td>87</td>\n",
              "      <td>14</td>\n",
              "      <td>1.0</td>\n",
              "      <td>30.0</td>\n",
              "      <td>0.0</td>\n",
              "      <td>1406</td>\n",
              "      <td>0.715</td>\n",
              "      <td>1.248</td>\n",
              "      <td>Demented</td>\n",
              "    </tr>\n",
              "    <tr>\n",
              "      <th>14</th>\n",
              "      <td>OAS2_0020</td>\n",
              "      <td>1</td>\n",
              "      <td>0</td>\n",
              "      <td>1</td>\n",
              "      <td>80</td>\n",
              "      <td>20</td>\n",
              "      <td>1.0</td>\n",
              "      <td>29.0</td>\n",
              "      <td>0.0</td>\n",
              "      <td>1587</td>\n",
              "      <td>0.693</td>\n",
              "      <td>1.106</td>\n",
              "      <td>Demented</td>\n",
              "    </tr>\n",
              "  </tbody>\n",
              "</table>\n",
              "</div>"
            ],
            "text/plain": [
              "   Subject ID  Group  MR Delay  M/F  ...  eTIV   nWBV    ASF  Classification\n",
              "0   OAS2_0001      0         0    1  ...  1987  0.696  0.883     Nondemented\n",
              "1   OAS2_0002      1         0    1  ...  1678  0.736  1.046        Demented\n",
              "2   OAS2_0004      0         0    0  ...  1215  0.710  1.444     Nondemented\n",
              "3   OAS2_0005      0         0    1  ...  1689  0.712  1.039     Nondemented\n",
              "4   OAS2_0007      1         0    1  ...  1357  0.748  1.293        Demented\n",
              "5   OAS2_0008      0         0    0  ...  1272  0.698  1.380     Nondemented\n",
              "6   OAS2_0009      1         0    1  ...  1457  0.806  1.205        Demented\n",
              "7   OAS2_0010      1         0    0  ...  1447  0.769  1.213        Demented\n",
              "8   OAS2_0012      0         0    0  ...  1333  0.748  1.316     Nondemented\n",
              "9   OAS2_0013      0         0    0  ...  1230  0.715  1.427     Nondemented\n",
              "10  OAS2_0014      1         0    1  ...  1602  0.697  1.096        Demented\n",
              "11  OAS2_0016      1         0    1  ...  1651  0.660  1.063        Demented\n",
              "12  OAS2_0017      0         0    1  ...  1783  0.752  0.985     Nondemented\n",
              "13  OAS2_0018      1         0    0  ...  1406  0.715  1.248        Demented\n",
              "14  OAS2_0020      1         0    1  ...  1587  0.693  1.106        Demented\n",
              "\n",
              "[15 rows x 13 columns]"
            ]
          },
          "metadata": {
            "tags": []
          },
          "execution_count": 6
        }
      ]
    },
    {
      "cell_type": "code",
      "metadata": {
        "id": "o4o43afM8-9D",
        "colab_type": "code",
        "outputId": "d9bbbe4e-a888-4f31-fcc8-4187d504a044",
        "colab": {
          "base_uri": "https://localhost:8080/",
          "height": 355
        }
      },
      "source": [
        "demented = df[df['Group']==1]\n",
        "demented_women = demented[demented['M/F']==0]['Group']\n",
        "demented_women_count = demented_women.count()\n",
        "demented_men = demented[demented['M/F']==1]['Group']\n",
        "demented_men_count = demented_men.count()\n",
        "\n",
        "non_demented = df[df['Group']==0]\n",
        "non_demented_women = non_demented[non_demented['M/F']==0]['Group']\n",
        "non_demented_women_count = non_demented_women.count()\n",
        "non_demented_men = non_demented[non_demented['M/F']==1]['Group']\n",
        "non_demented_men_count = non_demented_men.count()\n",
        "\n",
        "\n",
        "percent_demented_women = demented_women_count*100/(demented_women_count + non_demented_women_count)\n",
        "percent_demented_men = demented_men_count*100/(demented_men_count + non_demented_men_count)\n",
        "\n",
        "df_bar = pd.DataFrame( {'Women': [percent_demented_women], 'Men': [percent_demented_men]} )\n",
        "df_bar.index = [['Women'],['Men']]\n",
        "df_bar.plot(kind='bar', figsize=(8,5))\n",
        "plt.ylabel('Percentage patients')\n",
        "plt.legend()\n",
        "plt.xticks(rotation=0)\n",
        "plt.title('Gender and Demented rate')"
      ],
      "execution_count": 0,
      "outputs": [
        {
          "output_type": "execute_result",
          "data": {
            "text/plain": [
              "Text(0.5, 1.0, 'Gender and Demented rate')"
            ]
          },
          "metadata": {
            "tags": []
          },
          "execution_count": 7
        },
        {
          "output_type": "display_data",
          "data": {
            "image/png": "[encoded data removed]",
            "text/plain": [
              "<Figure size 576x360 with 1 Axes>"
            ]
          },
          "metadata": {
            "tags": [],
            "needs_background": "light"
          }
        }
      ]
    },
    {
      "cell_type": "markdown",
      "metadata": {
        "id": "c376D20hgJuQ",
        "colab_type": "text"
      },
      "source": [
        "The above graph indicates that men are more likely with dementia than women."
      ]
    },
    {
      "cell_type": "markdown",
      "metadata": {
        "id": "qz7TqTEsgZVm",
        "colab_type": "text"
      },
      "source": [
        "**MMSE : Mini Mental State Examination**"
      ]
    },
    {
      "cell_type": "code",
      "metadata": {
        "id": "o8k4K1Hmc6Jk",
        "colab_type": "code",
        "outputId": "0c75c730-f9a0-4b35-b900-bd8e86f03fe6",
        "colab": {
          "base_uri": "https://localhost:8080/",
          "height": 303
        }
      },
      "source": [
        "# a4_dims = (13, 3)\n",
        "# fig, ax = plt.subplots(figsize=a4_dims)\n",
        "sns.kdeplot(df['MMSE'][df['Classification']=='Demented'], shade=True, legend=True, color=\"r\", label='Demented')\n",
        "sns.kdeplot(df['MMSE'][df['Classification']=='Nondemented'], shade=True, legend=True, color=\"g\", label='Nondemented')\n",
        "plt.legend()\n",
        "plt.xlim(15,30)\n",
        "plt.xlabel('MMSE')\n",
        "# Nondemented has higher test result ranging from 25 to 30."
      ],
      "execution_count": 0,
      "outputs": [
        {
          "output_type": "execute_result",
          "data": {
            "text/plain": [
              "Text(0.5, 0, 'MMSE')"
            ]
          },
          "metadata": {
            "tags": []
          },
          "execution_count": 8
        },
        {
          "output_type": "display_data",
          "data": {
            "image/png": "[encoded data removed]",
            "text/plain": [
              "<Figure size 432x288 with 1 Axes>"
            ]
          },
          "metadata": {
            "tags": [],
            "needs_background": "light"
          }
        }
      ]
    },
    {
      "cell_type": "markdown",
      "metadata": {
        "id": "GdDNXEQp9xVZ",
        "colab_type": "text"
      },
      "source": [
        "**ASF - Atlas Scaling Factor**"
      ]
    },
    {
      "cell_type": "code",
      "metadata": {
        "id": "Ef1uRTxuc6Jp",
        "colab_type": "code",
        "outputId": "6c5ab3d0-9b65-4605-b2c0-d3ac6ce8a62a",
        "colab": {
          "base_uri": "https://localhost:8080/",
          "height": 303
        }
      },
      "source": [
        "# a4_dims = (13, 3)\n",
        "# fig, ax = plt.subplots(figsize=a4_dims)\n",
        "sns.kdeplot(df['ASF'][df['Classification']=='Demented'], shade=True, legend=True, color=\"r\", label='Demented')\n",
        "sns.kdeplot(df['ASF'][df['Classification']=='Nondemented'], shade=True, legend=True, color=\"g\", label='Nondemented')\n",
        "plt.legend()\n",
        "plt.xlim(0.5, 2)\n",
        "plt.xlabel('ASF')\n"
      ],
      "execution_count": 0,
      "outputs": [
        {
          "output_type": "execute_result",
          "data": {
            "text/plain": [
              "Text(0.5, 0, 'ASF')"
            ]
          },
          "metadata": {
            "tags": []
          },
          "execution_count": 9
        },
        {
          "output_type": "display_data",
          "data": {
            "image/png": "[encoded data removed]",
            "text/plain": [
              "<Figure size 432x288 with 1 Axes>"
            ]
          },
          "metadata": {
            "tags": [],
            "needs_background": "light"
          }
        }
      ]
    },
    {
      "cell_type": "markdown",
      "metadata": {
        "id": "r9R5upKE58Eu",
        "colab_type": "text"
      },
      "source": [
        "**eTIV - Estimated Total Intracranial Volume**\n"
      ]
    },
    {
      "cell_type": "code",
      "metadata": {
        "id": "JwfyDiqF2TMP",
        "colab_type": "code",
        "outputId": "9d06f08b-5b25-4d75-98fc-0b1eaccf3f8b",
        "colab": {
          "base_uri": "https://localhost:8080/",
          "height": 303
        }
      },
      "source": [
        "# fig, ax = plt.subplots(figsize=a4_dims)\n",
        "sns.kdeplot(df['eTIV'][df['Classification']=='Demented'], shade=True, legend=True, color=\"r\", label='Demented')\n",
        "sns.kdeplot(df['eTIV'][df['Classification']=='Nondemented'], shade=True, legend=True, color=\"g\", label='Nondemented')\n",
        "plt.legend()\n",
        "plt.xlim(900, 2200)\n",
        "plt.xlabel('eTIV')"
      ],
      "execution_count": 0,
      "outputs": [
        {
          "output_type": "execute_result",
          "data": {
            "text/plain": [
              "Text(0.5, 0, 'eTIV')"
            ]
          },
          "metadata": {
            "tags": []
          },
          "execution_count": 10
        },
        {
          "output_type": "display_data",
          "data": {
            "image/png": "[encoded data removed]",
            "text/plain": [
              "<Figure size 432x288 with 1 Axes>"
            ]
          },
          "metadata": {
            "tags": [],
            "needs_background": "light"
          }
        }
      ]
    },
    {
      "cell_type": "code",
      "metadata": {
        "id": "Ti5s1ne1-RIc",
        "colab_type": "code",
        "colab": {}
      },
      "source": [
        ""
      ],
      "execution_count": 0,
      "outputs": []
    },
    {
      "cell_type": "markdown",
      "metadata": {
        "id": "AeBnRAra6YRD",
        "colab_type": "text"
      },
      "source": [
        "**nWBV = Normalized Whole Brain Volume**"
      ]
    },
    {
      "cell_type": "code",
      "metadata": {
        "id": "2aWfAhXd2g-0",
        "colab_type": "code",
        "outputId": "0b98cceb-1725-489b-e2af-1668f2cd4c2f",
        "colab": {
          "base_uri": "https://localhost:8080/",
          "height": 303
        }
      },
      "source": [
        "# fig, ax = plt.subplots(figsize=a4_dims)\n",
        "sns.kdeplot(df['nWBV'][df['Classification']=='Demented'], shade=True, legend=True, color=\"r\", label='Demented')\n",
        "sns.kdeplot(df['nWBV'][df['Classification']=='Nondemented'], shade=True, legend=True, color=\"g\", label='Nondemented')\n",
        "plt.legend()\n",
        "plt.xlim(0.5, 1.0)\n",
        "plt.xlabel('nWBV')"
      ],
      "execution_count": 0,
      "outputs": [
        {
          "output_type": "execute_result",
          "data": {
            "text/plain": [
              "Text(0.5, 0, 'nWBV')"
            ]
          },
          "metadata": {
            "tags": []
          },
          "execution_count": 11
        },
        {
          "output_type": "display_data",
          "data": {
            "image/png": "[encoded data removed]",
            "text/plain": [
              "<Figure size 432x288 with 1 Axes>"
            ]
          },
          "metadata": {
            "tags": [],
            "needs_background": "light"
          }
        }
      ]
    },
    {
      "cell_type": "code",
      "metadata": {
        "id": "au039Ztb-VUv",
        "colab_type": "code",
        "colab": {}
      },
      "source": [
        ""
      ],
      "execution_count": 0,
      "outputs": []
    },
    {
      "cell_type": "markdown",
      "metadata": {
        "id": "j-AloMpZ6eDX",
        "colab_type": "text"
      },
      "source": [
        "**Age**"
      ]
    },
    {
      "cell_type": "code",
      "metadata": {
        "id": "nmdHUfWe22Kg",
        "colab_type": "code",
        "outputId": "271bd2aa-83d8-4593-ad3a-912255d4469c",
        "colab": {
          "base_uri": "https://localhost:8080/",
          "height": 303
        }
      },
      "source": [
        "# fig, ax = plt.subplots(figsize=a4_dims)\n",
        "sns.kdeplot(df['Age'][df['Classification']=='Demented'], shade=True, legend=True, color=\"r\", label='Demented')\n",
        "sns.kdeplot(df['Age'][df['Classification']=='Nondemented'], shade=True, legend=True, color=\"g\", label='Nondemented')\n",
        "plt.legend()\n",
        "plt.xlabel('Age')"
      ],
      "execution_count": 0,
      "outputs": [
        {
          "output_type": "execute_result",
          "data": {
            "text/plain": [
              "Text(0.5, 0, 'Age')"
            ]
          },
          "metadata": {
            "tags": []
          },
          "execution_count": 12
        },
        {
          "output_type": "display_data",
          "data": {
            "image/png": "[encoded data removed]",
            "text/plain": [
              "<Figure size 432x288 with 1 Axes>"
            ]
          },
          "metadata": {
            "tags": [],
            "needs_background": "light"
          }
        }
      ]
    },
    {
      "cell_type": "markdown",
      "metadata": {
        "id": "o3eDfk0C6hHD",
        "colab_type": "text"
      },
      "source": [
        "**Education**"
      ]
    },
    {
      "cell_type": "code",
      "metadata": {
        "id": "yZR_u7Uo4BtS",
        "colab_type": "code",
        "outputId": "b1f8f867-d0c8-4e06-d8f4-238202eb0f70",
        "colab": {
          "base_uri": "https://localhost:8080/",
          "height": 303
        }
      },
      "source": [
        "# fig, ax = plt.subplots(figsize=a4_dims)\n",
        "sns.kdeplot(df['EDUC'][df['Classification']=='Demented'], shade=True, legend=True, color=\"r\", label='Demented')\n",
        "sns.kdeplot(df['EDUC'][df['Classification']=='Nondemented'], shade=True, legend=True, color=\"g\", label='Nondemented')\n",
        "plt.legend()\n",
        "plt.xlabel('EDUC')"
      ],
      "execution_count": 0,
      "outputs": [
        {
          "output_type": "execute_result",
          "data": {
            "text/plain": [
              "Text(0.5, 0, 'EDUC')"
            ]
          },
          "metadata": {
            "tags": []
          },
          "execution_count": 13
        },
        {
          "output_type": "display_data",
          "data": {
            "image/png": "[encoded data removed]",
            "text/plain": [
              "<Figure size 432x288 with 1 Axes>"
            ]
          },
          "metadata": {
            "tags": [],
            "needs_background": "light"
          }
        }
      ]
    },
    {
      "cell_type": "markdown",
      "metadata": {
        "id": "a6BmtHi4ggkF",
        "colab_type": "text"
      },
      "source": [
        "The chart indicates that Nondemented group has higher brain volume ratio than Demented group. This is assumed to be because the diseases affect the brain to be shrinking its tissue."
      ]
    },
    {
      "cell_type": "markdown",
      "metadata": {
        "id": "wR6zoozWgpud",
        "colab_type": "text"
      },
      "source": [
        "There is a higher concentration of 70-80 years old in the Demented patient group than those in the nondemented patients. We guess patients who suffered from that kind of disease has lower survival rate so that there are a few of 90 years old."
      ]
    },
    {
      "cell_type": "markdown",
      "metadata": {
        "id": "d3XK8nvWc6J7",
        "colab_type": "text"
      },
      "source": [
        "<font size=3>C) Intermediate Result Summary\n",
        "\n",
        "1. Men are more likely with demented, an Alzheimer's Disease, than Women.<br/>\n",
        "2. Demented patients were less educated in terms of years of education.<br/>\n",
        "3. Nondemented group has higher brain volume than Demented group.<br/>\n",
        "4. Higher concentration of 70-80 years old in Demented group than those in the nondemented patients."
      ]
    },
    {
      "cell_type": "code",
      "metadata": {
        "id": "ShSQTqUSc6J8",
        "colab_type": "code",
        "outputId": "cb5343b0-807f-479d-d72a-43ecb72dc36a",
        "colab": {
          "base_uri": "https://localhost:8080/",
          "height": 260
        }
      },
      "source": [
        "# Imputation for 8 missing values in SES column.\n",
        "pd.isnull(df).sum() "
      ],
      "execution_count": 0,
      "outputs": [
        {
          "output_type": "execute_result",
          "data": {
            "text/plain": [
              "Subject ID        0\n",
              "Group             0\n",
              "MR Delay          0\n",
              "M/F               0\n",
              "Age               0\n",
              "EDUC              0\n",
              "SES               8\n",
              "MMSE              0\n",
              "CDR               0\n",
              "eTIV              0\n",
              "nWBV              0\n",
              "ASF               0\n",
              "Classification    0\n",
              "dtype: int64"
            ]
          },
          "metadata": {
            "tags": []
          },
          "execution_count": 14
        }
      ]
    },
    {
      "cell_type": "markdown",
      "metadata": {
        "id": "qvKp5ueIc6J_",
        "colab_type": "text"
      },
      "source": [
        "<font size=4> D) Pre-Processing Data"
      ]
    },
    {
      "cell_type": "markdown",
      "metadata": {
        "id": "r9aK7naAgz61",
        "colab_type": "text"
      },
      "source": [
        "Since the SES is a discrete variable, we use median for the imputation."
      ]
    },
    {
      "cell_type": "code",
      "metadata": {
        "id": "Auk2TBGxc6KC",
        "colab_type": "code",
        "outputId": "306580e2-1b05-46d7-b192-bc20df8ac4e9",
        "colab": {
          "base_uri": "https://localhost:8080/",
          "height": 285
        }
      },
      "source": [
        "# Draw scatter plot between EDUC and SES\n",
        "x = df['EDUC']\n",
        "y = df['SES']\n",
        "ses_not_null_index = y[~y.isnull()].index\n",
        "x = x[ses_not_null_index]\n",
        "y = y[ses_not_null_index]\n",
        "# Draw trend line in red\n",
        "z = np.polyfit(x, y, 1)\n",
        "p = np.poly1d(z)\n",
        "plt.plot(x, y, 'go', x, p(x), \"r--\")\n",
        "plt.xlabel('Education Level(EDUC)')\n",
        "plt.ylabel('Social Economic Status(SES)')\n",
        "\n",
        "plt.show()"
      ],
      "execution_count": 0,
      "outputs": [
        {
          "output_type": "display_data",
          "data": {
            "image/png": "[encoded data removed]",
            "text/plain": [
              "<Figure size 432x288 with 1 Axes>"
            ]
          },
          "metadata": {
            "tags": [],
            "needs_background": "light"
          }
        }
      ]
    },
    {
      "cell_type": "code",
      "metadata": {
        "id": "d16BM-H3c6KI",
        "colab_type": "code",
        "outputId": "e87de075-ce00-4697-ddfa-a8c75c04dc15",
        "colab": {
          "base_uri": "https://localhost:8080/",
          "height": 260
        }
      },
      "source": [
        "df.groupby(['EDUC'])['SES'].median()"
      ],
      "execution_count": 0,
      "outputs": [
        {
          "output_type": "execute_result",
          "data": {
            "text/plain": [
              "EDUC\n",
              "6     4.0\n",
              "8     5.0\n",
              "11    4.0\n",
              "12    3.0\n",
              "13    2.0\n",
              "14    3.0\n",
              "15    2.0\n",
              "16    2.0\n",
              "17    1.0\n",
              "18    2.0\n",
              "20    1.0\n",
              "23    1.0\n",
              "Name: SES, dtype: float64"
            ]
          },
          "metadata": {
            "tags": []
          },
          "execution_count": 16
        }
      ]
    },
    {
      "cell_type": "code",
      "metadata": {
        "id": "se5E9--Pc6KL",
        "colab_type": "code",
        "colab": {}
      },
      "source": [
        "df[\"SES\"].fillna(df.groupby(\"EDUC\")[\"SES\"].transform(\"median\"), inplace=True)"
      ],
      "execution_count": 0,
      "outputs": []
    },
    {
      "cell_type": "code",
      "metadata": {
        "id": "flQN024jc6KO",
        "colab_type": "code",
        "outputId": "afaadd13-cf64-4870-f308-9b3a48480d46",
        "colab": {
          "base_uri": "https://localhost:8080/",
          "height": 52
        }
      },
      "source": [
        "pd.isnull(df['SES']).value_counts() # all 150 rows are not null"
      ],
      "execution_count": 0,
      "outputs": [
        {
          "output_type": "execute_result",
          "data": {
            "text/plain": [
              "False    150\n",
              "Name: SES, dtype: int64"
            ]
          },
          "metadata": {
            "tags": []
          },
          "execution_count": 18
        }
      ]
    },
    {
      "cell_type": "code",
      "metadata": {
        "id": "PxxfSMcuc6KQ",
        "colab_type": "code",
        "outputId": "66514eed-d226-4815-e986-940f08f71d4d",
        "colab": {
          "base_uri": "https://localhost:8080/",
          "height": 260
        }
      },
      "source": [
        "pd.isnull(df).sum() # No more missing vals"
      ],
      "execution_count": 0,
      "outputs": [
        {
          "output_type": "execute_result",
          "data": {
            "text/plain": [
              "Subject ID        0\n",
              "Group             0\n",
              "MR Delay          0\n",
              "M/F               0\n",
              "Age               0\n",
              "EDUC              0\n",
              "SES               0\n",
              "MMSE              0\n",
              "CDR               0\n",
              "eTIV              0\n",
              "nWBV              0\n",
              "ASF               0\n",
              "Classification    0\n",
              "dtype: int64"
            ]
          },
          "metadata": {
            "tags": []
          },
          "execution_count": 19
        }
      ]
    },
    {
      "cell_type": "markdown",
      "metadata": {
        "id": "pqFjk6cDhDrk",
        "colab_type": "text"
      },
      "source": [
        "<font size=4>E) Splitting Train/Validation/Test Sets"
      ]
    },
    {
      "cell_type": "code",
      "metadata": {
        "id": "BKj9oKHLc6KY",
        "colab_type": "code",
        "colab": {}
      },
      "source": [
        "from sklearn.model_selection import train_test_split\n",
        "from sklearn import preprocessing\n",
        "from sklearn.preprocessing import MinMaxScaler \n",
        "from sklearn.model_selection import cross_val_score"
      ],
      "execution_count": 0,
      "outputs": []
    },
    {
      "cell_type": "code",
      "metadata": {
        "id": "Ckmaies7c6Ke",
        "colab_type": "code",
        "colab": {}
      },
      "source": [
        "# Dataset with imputation\n",
        "Y = df['Group'].values # Target for the model\n",
        "X = df[['M/F', 'Age', 'EDUC', 'SES', 'MMSE', 'eTIV', 'nWBV', 'ASF']] # Features we use\n",
        "X_trainval, X_test, Y_trainval, Y_test = train_test_split(X, Y, random_state=0)"
      ],
      "execution_count": 0,
      "outputs": []
    },
    {
      "cell_type": "code",
      "metadata": {
        "id": "oPAI1ZeSc6Kp",
        "colab_type": "code",
        "outputId": "f12da877-744c-433c-9070-056bfbce26c0",
        "colab": {
          "base_uri": "https://localhost:8080/",
          "height": 260
        }
      },
      "source": [
        "print(X_trainval)"
      ],
      "execution_count": 0,
      "outputs": [
        {
          "output_type": "stream",
          "text": [
            "     M/F  Age  EDUC  SES  MMSE  eTIV   nWBV    ASF\n",
            "61     0   73     8  5.0  25.0  1151  0.743  1.525\n",
            "92     0   76    12  3.0  27.0  1315  0.698  1.335\n",
            "112    0   73    16  2.0  29.0  1123  0.786  1.563\n",
            "2      0   88    18  3.0  28.0  1215  0.710  1.444\n",
            "141    1   68    14  3.0  26.0  1444  0.778  1.216\n",
            "..   ...  ...   ...  ...   ...   ...    ...    ...\n",
            "9      0   81    12  4.0  30.0  1230  0.715  1.427\n",
            "103    0   74    12  3.0  29.0  1344  0.739  1.306\n",
            "67     0   82    12  4.0  26.0  1271  0.695  1.381\n",
            "117    0   89    18  2.0  30.0  1715  0.746  1.023\n",
            "47     0   81    12  2.0  30.0  1599  0.755  1.098\n",
            "\n",
            "[112 rows x 8 columns]\n"
          ],
          "name": "stdout"
        }
      ]
    },
    {
      "cell_type": "code",
      "metadata": {
        "id": "PQGc_mAJc6Kv",
        "colab_type": "code",
        "outputId": "0afb4554-0e0c-44f2-c690-6bdf60935132",
        "colab": {
          "base_uri": "https://localhost:8080/",
          "height": 87
        }
      },
      "source": [
        "print(Y_trainval)"
      ],
      "execution_count": 0,
      "outputs": [
        {
          "output_type": "stream",
          "text": [
            "[1 1 0 0 0 0 1 0 0 1 1 1 0 0 0 1 1 1 0 0 0 1 1 1 0 1 0 1 1 0 1 1 1 1 1 1 1\n",
            " 0 0 0 1 0 1 0 0 1 1 1 0 0 1 0 0 0 1 1 1 1 0 1 1 1 1 0 1 1 0 0 1 1 0 1 0 1\n",
            " 0 1 1 0 0 1 0 0 1 0 0 1 1 1 0 1 0 0 0 1 1 0 0 1 1 0 0 0 1 1 0 1 0 0 0 1 0\n",
            " 0]\n"
          ],
          "name": "stdout"
        }
      ]
    },
    {
      "cell_type": "code",
      "metadata": {
        "id": "efR2m5--c6Ks",
        "colab_type": "code",
        "outputId": "6b303a2b-c647-4771-ffd8-29988770d5c8",
        "colab": {
          "base_uri": "https://localhost:8080/",
          "height": 693
        }
      },
      "source": [
        "print(X_test)"
      ],
      "execution_count": 0,
      "outputs": [
        {
          "output_type": "stream",
          "text": [
            "     M/F  Age  EDUC  SES  MMSE  eTIV   nWBV    ASF\n",
            "114    0   76    16  3.0  26.0  1391  0.705  1.262\n",
            "62     0   66    18  2.0  30.0  1504  0.725  1.167\n",
            "33     0   72    12  4.0  26.0  1453  0.777  1.208\n",
            "107    0   65    12  2.0  30.0  1340  0.754  1.309\n",
            "7      0   66    12  3.0  30.0  1447  0.769  1.213\n",
            "100    0   73    11  4.0  30.0  1475  0.726  1.190\n",
            "40     1   71    12  4.0  20.0  1461  0.724  1.202\n",
            "86     1   70    16  1.0  25.0  1568  0.696  1.119\n",
            "76     0   61    16  1.0  30.0  1513  0.771  1.160\n",
            "71     1   78    12  4.0  21.0  1477  0.672  1.188\n",
            "134    1   78    12  3.0  23.0  1491  0.710  1.177\n",
            "51     0   79    18  2.0  29.0  1641  0.695  1.069\n",
            "73     1   73    18  2.0  29.0  1548  0.773  1.134\n",
            "54     1   61    18  1.0  30.0  1957  0.734  0.897\n",
            "63     1   69    16  2.0  28.0  1848  0.737  0.950\n",
            "37     0   77    16  2.0  29.0  1433  0.723  1.225\n",
            "78     0   89    13  3.0  29.0  1154  0.750  1.521\n",
            "90     1   81    11  4.0  28.0  1750  0.670  1.003\n",
            "45     1   65    13  3.0  29.0  1362  0.837  1.289\n",
            "16     0   61    16  3.0  30.0  1313  0.805  1.337\n",
            "121    0   77    13  2.0  29.0  1351  0.769  1.299\n",
            "66     1   66    15  2.0  25.0  1548  0.727  1.134\n",
            "24     1   90    12  3.0  21.0  1307  0.679  1.342\n",
            "8      0   78    16  2.0  29.0  1333  0.748  1.316\n",
            "126    0   78    18  1.0  30.0  1243  0.748  1.412\n",
            "22     0   60    18  1.0  30.0  1402  0.822  1.252\n",
            "44     0   85    18  1.0  29.0  1264  0.701  1.388\n",
            "97     0   67    14  4.0  30.0  1508  0.794  1.164\n",
            "93     0   73    13  2.0  23.0  1536  0.725  1.142\n",
            "26     0   88    12  4.0  30.0  1336  0.738  1.313\n",
            "137    1   75    16  1.0  30.0  1891  0.709  0.928\n",
            "84     1   82    15  3.0  29.0  1499  0.689  1.171\n",
            "27     0   69    13  4.0  30.0  1359  0.789  1.291\n",
            "127    0   73    12  2.0  19.0  1274  0.728  1.377\n",
            "132    1   82    14  2.0  23.0  1514  0.678  1.159\n",
            "59     0   83    13  2.0  27.0  1391  0.705  1.262\n",
            "18     1   82    12  3.0  27.0  1420  0.713  1.236\n",
            "83     0   71    18  2.0  30.0  1371  0.769  1.280\n"
          ],
          "name": "stdout"
        }
      ]
    },
    {
      "cell_type": "code",
      "metadata": {
        "id": "9duW3J_qhSQA",
        "colab_type": "code",
        "outputId": "aa100b0f-314e-49fd-a5e7-2f4d775b29b5",
        "colab": {
          "base_uri": "https://localhost:8080/",
          "height": 52
        }
      },
      "source": [
        "print(Y_test)"
      ],
      "execution_count": 0,
      "outputs": [
        {
          "output_type": "stream",
          "text": [
            "[1 0 1 1 1 0 1 1 0 1 1 0 0 1 0 0 0 0 0 0 0 1 1 0 0 0 1 1 1 0 1 1 0 1 1 1 1\n",
            " 0]\n"
          ],
          "name": "stdout"
        }
      ]
    },
    {
      "cell_type": "code",
      "metadata": {
        "id": "Ix1A58MGc6K1",
        "colab_type": "code",
        "colab": {}
      },
      "source": [
        "# Feature scaling\n",
        "scaler = MinMaxScaler().fit(X_trainval)\n",
        "X_trainval_scaled = scaler.transform(X_trainval)\n",
        "X_test_scaled = scaler.transform(X_test)"
      ],
      "execution_count": 0,
      "outputs": []
    },
    {
      "cell_type": "markdown",
      "metadata": {
        "id": "aVOoBoSEhcV5",
        "colab_type": "text"
      },
      "source": [
        "<font size=4>F) Model Training"
      ]
    },
    {
      "cell_type": "markdown",
      "metadata": {
        "id": "6EUQnZmDc6LA",
        "colab_type": "text"
      },
      "source": [
        "<font size=4>1) Logistic Regression\n",
        "\n",
        "The parameter C, inverse of regularization strength.\n",
        "<br>Tuning range: [0.0001, 0.001, 0.1, 1, 10, 100, 1000]"
      ]
    },
    {
      "cell_type": "code",
      "metadata": {
        "id": "Ej4bqbpyc6LD",
        "colab_type": "code",
        "colab": {}
      },
      "source": [
        "from sklearn.linear_model import LogisticRegression\n",
        "from sklearn.svm import SVC\n",
        "from sklearn.metrics import confusion_matrix, accuracy_score, recall_score, roc_curve, auc\n",
        "from sklearn.model_selection import cross_val_score\n",
        "from sklearn.tree import DecisionTreeClassifier\n",
        "from sklearn.ensemble import RandomForestClassifier\n",
        "from sklearn.neighbors import KNeighborsClassifier"
      ],
      "execution_count": 0,
      "outputs": []
    },
    {
      "cell_type": "code",
      "metadata": {
        "id": "oJpGsgHAc6LI",
        "colab_type": "code",
        "colab": {}
      },
      "source": [
        "performance_metric = [] # list to store all performance metric\n",
        "max_test_auc=0\n",
        "req_obj=None"
      ],
      "execution_count": 0,
      "outputs": []
    },
    {
      "cell_type": "code",
      "metadata": {
        "id": "3DKVd9YHc6LP",
        "colab_type": "code",
        "colab": {}
      },
      "source": [
        "# Dataset with imputation\n",
        "best_score = 0\n",
        "kfolds = 8 # set the number of folds"
      ],
      "execution_count": 0,
      "outputs": []
    },
    {
      "cell_type": "code",
      "metadata": {
        "id": "VLas_qWKc6LS",
        "colab_type": "code",
        "colab": {}
      },
      "source": [
        "for c in [0.0001,0.001, 0.1, 1, 10, 100,1000]:\n",
        "    Model = LogisticRegression(C=c, solver='liblinear') # liblinear good for small dataset\n",
        "    # perform cross-validation\n",
        "    scores = cross_val_score(Model, X_trainval, Y_trainval, cv=kfolds, scoring='accuracy')\n",
        "\n",
        "    # compute mean cross-validation accuracy\n",
        "    score = np.mean(scores)\n",
        "\n",
        "    # Find the best parameters and score\n",
        "    if score > best_score:\n",
        "        best_score = score\n",
        "        optimal_c = c"
      ],
      "execution_count": 0,
      "outputs": []
    },
    {
      "cell_type": "code",
      "metadata": {
        "id": "LKX7FHlZc6Lf",
        "colab_type": "code",
        "outputId": "54500567-277a-4548-85ce-0a0d71c7e816",
        "colab": {
          "base_uri": "https://localhost:8080/",
          "height": 139
        }
      },
      "source": [
        "# rebuild a model based on the optimal parameters\n",
        "SelectedLRModel = LogisticRegression(C=optimal_c, solver='liblinear')\n",
        "SelectedLRModel.fit(X_trainval_scaled, Y_trainval)\n",
        "\n",
        "test_score = SelectedLRModel.score(X_test_scaled, Y_test)\n",
        "PredictedOutput = SelectedLRModel.predict(X_test_scaled)\n",
        "# PredictedOutputLR=PredictedOutput\n",
        "test_recall = recall_score(Y_test, PredictedOutput, pos_label=1)\n",
        "fpr, tpr, thresholds = roc_curve(Y_test, PredictedOutput, pos_label=1)\n",
        "test_auc = auc(fpr, tpr) # The AUC value lies between 0.5 to 1 where 0.5 denotes a bad classifer and 1 denotes an excellent classifier\n",
        "if(test_auc>max_test_auc):\n",
        "  max_test_auc = test_auc\n",
        "  req_obj= SelectedLRModel\n",
        "print(\"Best accuracy on validation set is:\", best_score)\n",
        "print(\"Best parameter for regularization (C) is: \", optimal_c)\n",
        "print(\"Test accuracy with best C parameter is\", test_score)\n",
        "print(\"Test recall with the best C parameter is\", test_recall)\n",
        "print(\"Test AUC with the best C parameter is\", test_auc)\n",
        "print(\"Prediction for LR\",PredictedOutput)\n"
      ],
      "execution_count": 0,
      "outputs": [
        {
          "output_type": "stream",
          "text": [
            "Best accuracy on validation set is: 0.7321428571428571\n",
            "Best parameter for regularization (C) is:  10\n",
            "Test accuracy with best C parameter is 0.7894736842105263\n",
            "Test recall with the best C parameter is 0.75\n",
            "Test AUC with the best C parameter is 0.7916666666666667\n",
            "Prediction for LR [1 0 1 0 0 0 1 1 0 1 1 0 0 0 0 0 1 1 1 0 0 1 1 0 0 0 1 0 1 0 0 1 0 1 1 1 1\n",
            " 0]\n"
          ],
          "name": "stdout"
        }
      ]
    },
    {
      "cell_type": "code",
      "metadata": {
        "id": "fnuBGpURc6Ll",
        "colab_type": "code",
        "outputId": "6f371aed-21c6-4b10-bc99-1b54c012b130",
        "colab": {
          "base_uri": "https://localhost:8080/",
          "height": 55
        }
      },
      "source": [
        "m = 'Logistic Regression'\n",
        "performance_metric.append([m, test_score, test_recall, test_auc, fpr, tpr, thresholds])\n",
        "print(performance_metric)"
      ],
      "execution_count": 0,
      "outputs": [
        {
          "output_type": "stream",
          "text": [
            "[['Logistic Regression', 0.7894736842105263, 0.75, 0.7916666666666667, array([0.        , 0.16666667, 1.        ]), array([0.  , 0.75, 1.  ]), array([2, 1, 0])]]\n"
          ],
          "name": "stdout"
        }
      ]
    },
    {
      "cell_type": "markdown",
      "metadata": {
        "id": "I7PhEyfvc6Lw",
        "colab_type": "text"
      },
      "source": [
        "<font size=\"4\">2) Support Vector Machine\n",
        "\n",
        "C: Penalty parameter C of the error term. [0.001, 0.01, 0.1, 1, 10, 100, 1000]\n",
        "\n",
        "gamma: kernel coefficient. [0.001, 0.01, 0.1, 1, 10, 100, 1000]\n",
        "\n",
        "kernel: kernel type. ['rbf', 'linear', 'poly', 'sigmoid']"
      ]
    },
    {
      "cell_type": "code",
      "metadata": {
        "id": "OUrUT4_4I1mP",
        "colab_type": "code",
        "colab": {}
      },
      "source": [
        "best_score = 0"
      ],
      "execution_count": 0,
      "outputs": []
    },
    {
      "cell_type": "code",
      "metadata": {
        "id": "AVVdItlCc6MB",
        "colab_type": "code",
        "colab": {}
      },
      "source": [
        "for c_paramter in [0.001, 0.01, 0.1, 1, 10, 100, 1000]: # iterate over the values we need to try for the parameter C\n",
        "    for gamma_paramter in [0.001, 0.01, 0.1, 1, 10, 100, 1000]: # iterate over the values we need to try for the parameter gamma\n",
        "        for k_parameter in ['rbf', 'linear', 'poly', 'sigmoid']: # iterate over the values we need to try for the kernel parameter\n",
        "            svmModel = SVC(kernel=k_parameter, C=c_paramter, gamma=gamma_paramter)\n",
        "\n",
        "            scores = cross_val_score(svmModel, X_trainval_scaled, Y_trainval, cv=kfolds, scoring='accuracy')\n",
        "\n",
        "            score = np.mean(scores)\n",
        "            if score > best_score:\n",
        "                best_score = score\n",
        "                optimal_parameter_c = c_paramter\n",
        "                optimal_parameter_gamma = gamma_paramter\n",
        "                optimal_parameter_k = k_parameter"
      ],
      "execution_count": 0,
      "outputs": []
    },
    {
      "cell_type": "code",
      "metadata": {
        "id": "XRM8KvuTc6MQ",
        "colab_type": "code",
        "outputId": "ef7abb06-d61e-4377-a17a-47f4aebcc7a7",
        "colab": {
          "base_uri": "https://localhost:8080/",
          "height": 173
        }
      },
      "source": [
        "SelectedSVMModel = SVC(C=optimal_parameter_c, gamma=optimal_parameter_gamma, kernel=optimal_parameter_k)\n",
        "SelectedSVMModel.fit(X_trainval_scaled, Y_trainval)\n",
        "\n",
        "test_score = SelectedSVMModel.score(X_test_scaled, Y_test)\n",
        "PredictedOutput = SelectedSVMModel.predict(X_test_scaled)\n",
        "# PredictedOutputSVM=PredictedOutput\n",
        "test_recall = recall_score(Y_test, PredictedOutput, pos_label=1)\n",
        "fpr, tpr, thresholds = roc_curve(Y_test, PredictedOutput, pos_label=1)\n",
        "test_auc = auc(fpr, tpr)\n",
        "if(test_auc>max_test_auc):\n",
        "  max_test_auc = test_auc\n",
        "  req_obj= SelectedSVMModel\n",
        "\n",
        "print(\"prediction for SVM\", PredictedOutput)\n",
        "print(\"Best accuracy on cross validation set is:\", best_score)\n",
        "print(\"Best parameter for c is: \", optimal_parameter_c)\n",
        "print(\"Best parameter for gamma is: \", optimal_parameter_gamma)\n",
        "print(\"Best parameter for kernel is: \", optimal_parameter_k)\n",
        "print(\"Test accuracy with the best parameters is\", test_score)\n",
        "print(\"Test recall with the best parameters is\", test_recall)\n",
        "print(\"Test recall with the best parameter is\", test_auc)"
      ],
      "execution_count": 0,
      "outputs": [
        {
          "output_type": "stream",
          "text": [
            "prediction for SVM [1 0 1 0 0 0 1 1 0 1 1 0 1 0 0 0 0 0 1 0 0 1 1 0 0 0 0 0 1 0 0 1 0 1 1 1 1\n",
            " 0]\n",
            "Best accuracy on cross validation set is: 0.7589285714285714\n",
            "Best parameter for c is:  0.001\n",
            "Best parameter for gamma is:  10\n",
            "Best parameter for kernel is:  poly\n",
            "Test accuracy with the best parameters is 0.7894736842105263\n",
            "Test recall with the best parameters is 0.7\n",
            "Test recall with the best parameter is 0.7944444444444444\n"
          ],
          "name": "stdout"
        }
      ]
    },
    {
      "cell_type": "code",
      "metadata": {
        "id": "1wml1kM3c6MX",
        "colab_type": "code",
        "outputId": "b15e84dd-f4db-4ff3-f037-8ffe5a5e4c56",
        "colab": {
          "base_uri": "https://localhost:8080/",
          "height": 55
        }
      },
      "source": [
        "m = 'SVM'\n",
        "performance_metric.append([m, test_score, test_recall, test_auc, fpr, tpr, thresholds])\n",
        "print(performance_metric)"
      ],
      "execution_count": 0,
      "outputs": [
        {
          "output_type": "stream",
          "text": [
            "[['Logistic Regression', 0.7894736842105263, 0.75, 0.7916666666666667, array([0.        , 0.16666667, 1.        ]), array([0.  , 0.75, 1.  ]), array([2, 1, 0])], ['SVM', 0.7894736842105263, 0.7, 0.7944444444444444, array([0.        , 0.11111111, 1.        ]), array([0. , 0.7, 1. ]), array([2, 1, 0])]]\n"
          ],
          "name": "stdout"
        }
      ]
    },
    {
      "cell_type": "markdown",
      "metadata": {
        "id": "vLbe6Nu_c6Ma",
        "colab_type": "text"
      },
      "source": [
        "<font size=\"4\">3) Decision Tree"
      ]
    },
    {
      "cell_type": "code",
      "metadata": {
        "id": "AQAov3LfJT4S",
        "colab_type": "code",
        "colab": {}
      },
      "source": [
        "best_score = 0\n",
        "kfolds = 5"
      ],
      "execution_count": 0,
      "outputs": []
    },
    {
      "cell_type": "code",
      "metadata": {
        "id": "WRzJpogGc6Mf",
        "colab_type": "code",
        "colab": {}
      },
      "source": [
        "for depth in range(1, 9): # iterate different maximum depth values\n",
        "    for split_criterion in ['gini', 'entropy']: # iterate over different criterian values\n",
        "        treeModel = DecisionTreeClassifier(max_depth=depth, criterion=split_criterion)\n",
        "\n",
        "        scores = cross_val_score(treeModel, X_trainval_scaled, Y_trainval, cv=kfolds, scoring='accuracy')\n",
        "\n",
        "        score = np.mean(scores)\n",
        "        if score > best_score:\n",
        "            best_score = score\n",
        "            optimal_depth = depth\n",
        "            optimal_split = split_criterion"
      ],
      "execution_count": 0,
      "outputs": []
    },
    {
      "cell_type": "code",
      "metadata": {
        "id": "7wZf6V-KJwrZ",
        "colab_type": "code",
        "outputId": "5803bfec-0cc2-4930-977b-5de21b8675b5",
        "colab": {
          "base_uri": "https://localhost:8080/",
          "height": 156
        }
      },
      "source": [
        "SelectedDTModel = DecisionTreeClassifier(random_state=0, max_depth=optimal_depth, criterion=optimal_split)\n",
        "SelectedDTModel.fit(X_trainval_scaled, Y_trainval )\n",
        "\n",
        "test_score = SelectedDTModel.score(X_test_scaled, Y_test)\n",
        "PredictedOutput = SelectedDTModel.predict(X_test_scaled)\n",
        "# PredictedOutputDT=PredictedOutput\n",
        "print(\"prediction for Decision trees\", PredictedOutput)\n",
        "\n",
        "test_recall = recall_score(Y_test, PredictedOutput, pos_label=1)\n",
        "fpr, tpr, thresholds = roc_curve(Y_test, PredictedOutput, pos_label=1)\n",
        "test_auc = auc(fpr, tpr)\n",
        "if(test_auc>max_test_auc):\n",
        "  max_test_auc = test_auc\n",
        "  req_obj= SelectedDTModel\n",
        "print(\"Best accuracy on validation set is:\", best_score)\n",
        "print(\"Best parameter for the maximum depth is: \", optimal_depth)\n",
        "print(\"Best parameter for the split criterian is: \", optimal_split)\n",
        "print(\"Test accuracy with best parameter is \", test_score)\n",
        "print(\"Test recall with best parameters is \", test_recall)\n",
        "print(\"Test AUC with the best parameter is \", test_auc)"
      ],
      "execution_count": 0,
      "outputs": [
        {
          "output_type": "stream",
          "text": [
            "prediction for Decision trees [1 0 1 0 0 0 1 1 0 1 1 0 0 0 0 0 0 0 0 0 0 1 1 0 0 0 0 0 1 0 0 0 0 1 1 1 1\n",
            " 0]\n",
            "Best accuracy on validation set is: 0.7770750988142293\n",
            "Best parameter for the maximum depth is:  1\n",
            "Best parameter for the split criterian is:  gini\n",
            "Test accuracy with best parameter is  0.8157894736842105\n",
            "Test recall with best parameters is  0.65\n",
            "Test AUC with the best parameter is  0.825\n"
          ],
          "name": "stdout"
        }
      ]
    },
    {
      "cell_type": "code",
      "metadata": {
        "id": "LCjfAOsKKBxU",
        "colab_type": "code",
        "outputId": "29dccd13-c67e-4646-f29d-bbc9091ce5dc",
        "colab": {
          "base_uri": "https://localhost:8080/",
          "height": 55
        }
      },
      "source": [
        "m = 'Decision Tree'\n",
        "performance_metric.append([m, test_score, test_recall, test_auc, fpr, tpr, thresholds])\n",
        "print(performance_metric)"
      ],
      "execution_count": 0,
      "outputs": [
        {
          "output_type": "stream",
          "text": [
            "[['Logistic Regression', 0.7894736842105263, 0.75, 0.7916666666666667, array([0.        , 0.16666667, 1.        ]), array([0.  , 0.75, 1.  ]), array([2, 1, 0])], ['SVM', 0.7894736842105263, 0.7, 0.7944444444444444, array([0.        , 0.11111111, 1.        ]), array([0. , 0.7, 1. ]), array([2, 1, 0])], ['Decision Tree', 0.8157894736842105, 0.65, 0.825, array([0., 0., 1.]), array([0.  , 0.65, 1.  ]), array([2, 1, 0])]]\n"
          ],
          "name": "stdout"
        }
      ]
    },
    {
      "cell_type": "code",
      "metadata": {
        "id": "TELfz92tc6Mi",
        "colab_type": "code",
        "outputId": "04864e40-b4e8-4e25-afaf-5327ab638404",
        "colab": {
          "base_uri": "https://localhost:8080/",
          "height": 173
        }
      },
      "source": [
        "print(\"Feature importance: \")\n",
        "np.array([X.columns.values.tolist(), list(SelectedDTModel.feature_importances_)]).T"
      ],
      "execution_count": 0,
      "outputs": [
        {
          "output_type": "stream",
          "text": [
            "Feature importance: \n"
          ],
          "name": "stdout"
        },
        {
          "output_type": "execute_result",
          "data": {
            "text/plain": [
              "array([['M/F', '0.0'],\n",
              "       ['Age', '0.0'],\n",
              "       ['EDUC', '0.0'],\n",
              "       ['SES', '0.0'],\n",
              "       ['MMSE', '1.0'],\n",
              "       ['eTIV', '0.0'],\n",
              "       ['nWBV', '0.0'],\n",
              "       ['ASF', '0.0']], dtype='<U4')"
            ]
          },
          "metadata": {
            "tags": []
          },
          "execution_count": 41
        }
      ]
    },
    {
      "cell_type": "code",
      "metadata": {
        "id": "iMvMZgUgc6Mt",
        "colab_type": "code",
        "outputId": "a23d0135-3450-4398-8336-efe857d65492",
        "colab": {
          "base_uri": "https://localhost:8080/",
          "height": 241
        }
      },
      "source": [
        "import graphviz\n",
        "from sklearn.tree import export_graphviz\n",
        "dot_data = export_graphviz(SelectedDTModel, feature_names=X_trainval.columns.values.tolist(), out_file=None)\n",
        "graph = graphviz.Source(dot_data)\n",
        "graph"
      ],
      "execution_count": 0,
      "outputs": [
        {
          "output_type": "execute_result",
          "data": {
            "text/plain": [
              "<graphviz.files.Source at 0x7f470dec9b00>"
            ],
            "image/svg+xml": "<?xml version=\"1.0\" encoding=\"UTF-8\" standalone=\"no\"?>\n<!DOCTYPE svg PUBLIC \"-//W3C//DTD SVG 1.1//EN\"\n \"http://www.w3.org/Graphics/SVG/1.1/DTD/svg11.dtd\">\n<!-- Generated by graphviz version 2.40.1 (20161225.0304)\n -->\n<!-- Title: Tree Pages: 1 -->\n<svg width=\"238pt\" height=\"165pt\"\n viewBox=\"0.00 0.00 238.00 165.00\" xmlns=\"http://www.w3.org/2000/svg\" xmlns:xlink=\"http://www.w3.org/1999/xlink\">\n<g id=\"graph0\" class=\"graph\" transform=\"scale(1 1) rotate(0) translate(4 161)\">\n<title>Tree</title>\n<polygon fill=\"#ffffff\" stroke=\"transparent\" points=\"-4,4 -4,-161 234,-161 234,4 -4,4\"/>\n<!-- 0 -->\n<g id=\"node1\" class=\"node\">\n<title>0</title>\n<polygon fill=\"none\" stroke=\"#000000\" points=\"171.5,-157 54.5,-157 54.5,-89 171.5,-89 171.5,-157\"/>\n<text text-anchor=\"middle\" x=\"113\" y=\"-141.8\" font-family=\"Times,serif\" font-size=\"14.00\" fill=\"#000000\">MMSE &lt;= 0.808</text>\n<text text-anchor=\"middle\" x=\"113\" y=\"-126.8\" font-family=\"Times,serif\" font-size=\"14.00\" fill=\"#000000\">gini = 0.499</text>\n<text text-anchor=\"middle\" x=\"113\" y=\"-111.8\" font-family=\"Times,serif\" font-size=\"14.00\" fill=\"#000000\">samples = 112</text>\n<text text-anchor=\"middle\" x=\"113\" y=\"-96.8\" font-family=\"Times,serif\" font-size=\"14.00\" fill=\"#000000\">value = [54, 58]</text>\n</g>\n<!-- 1 -->\n<g id=\"node2\" class=\"node\">\n<title>1</title>\n<polygon fill=\"none\" stroke=\"#000000\" points=\"102,-53 0,-53 0,0 102,0 102,-53\"/>\n<text text-anchor=\"middle\" x=\"51\" y=\"-37.8\" font-family=\"Times,serif\" font-size=\"14.00\" fill=\"#000000\">gini = 0.102</text>\n<text text-anchor=\"middle\" x=\"51\" y=\"-22.8\" font-family=\"Times,serif\" font-size=\"14.00\" fill=\"#000000\">samples = 37</text>\n<text text-anchor=\"middle\" x=\"51\" y=\"-7.8\" font-family=\"Times,serif\" font-size=\"14.00\" fill=\"#000000\">value = [2, 35]</text>\n</g>\n<!-- 0&#45;&gt;1 -->\n<g id=\"edge1\" class=\"edge\">\n<title>0&#45;&gt;1</title>\n<path fill=\"none\" stroke=\"#000000\" d=\"M91.1411,-88.9777C85.4932,-80.187 79.4007,-70.7044 73.7104,-61.8477\"/>\n<polygon fill=\"#000000\" stroke=\"#000000\" points=\"76.5356,-59.7698 68.1856,-53.2485 70.6463,-63.5536 76.5356,-59.7698\"/>\n<text text-anchor=\"middle\" x=\"62.8684\" y=\"-73.9765\" font-family=\"Times,serif\" font-size=\"14.00\" fill=\"#000000\">True</text>\n</g>\n<!-- 2 -->\n<g id=\"node3\" class=\"node\">\n<title>2</title>\n<polygon fill=\"none\" stroke=\"#000000\" points=\"230,-53 120,-53 120,0 230,0 230,-53\"/>\n<text text-anchor=\"middle\" x=\"175\" y=\"-37.8\" font-family=\"Times,serif\" font-size=\"14.00\" fill=\"#000000\">gini = 0.425</text>\n<text text-anchor=\"middle\" x=\"175\" y=\"-22.8\" font-family=\"Times,serif\" font-size=\"14.00\" fill=\"#000000\">samples = 75</text>\n<text text-anchor=\"middle\" x=\"175\" y=\"-7.8\" font-family=\"Times,serif\" font-size=\"14.00\" fill=\"#000000\">value = [52, 23]</text>\n</g>\n<!-- 0&#45;&gt;2 -->\n<g id=\"edge2\" class=\"edge\">\n<title>0&#45;&gt;2</title>\n<path fill=\"none\" stroke=\"#000000\" d=\"M134.8589,-88.9777C140.5068,-80.187 146.5993,-70.7044 152.2896,-61.8477\"/>\n<polygon fill=\"#000000\" stroke=\"#000000\" points=\"155.3537,-63.5536 157.8144,-53.2485 149.4644,-59.7698 155.3537,-63.5536\"/>\n<text text-anchor=\"middle\" x=\"163.1316\" y=\"-73.9765\" font-family=\"Times,serif\" font-size=\"14.00\" fill=\"#000000\">False</text>\n</g>\n</g>\n</svg>\n"
          },
          "metadata": {
            "tags": []
          },
          "execution_count": 42
        }
      ]
    },
    {
      "cell_type": "markdown",
      "metadata": {
        "id": "I9zVsm08c6Mw",
        "colab_type": "text"
      },
      "source": [
        "<font size=\"4\">4) Random Forest Classifier"
      ]
    },
    {
      "cell_type": "code",
      "metadata": {
        "id": "_7NrZDupKfht",
        "colab_type": "code",
        "colab": {}
      },
      "source": [
        "best_score = 0  "
      ],
      "execution_count": 0,
      "outputs": []
    },
    {
      "cell_type": "code",
      "metadata": {
        "id": "L8ZWv6Dsc6Mz",
        "colab_type": "code",
        "colab": {}
      },
      "source": [
        "\n",
        "for n_estimators in range(2, 15, 2): # combines M trees\n",
        "    for max_features in range(1, 9): # maximum number of features considered at each split\n",
        "        for depth in range(1, 9): # maximum depth of the tree\n",
        "            for split_criterion in ['gini', 'entropy']:\n",
        "                forestModel = RandomForestClassifier(\n",
        "                                                      n_estimators=n_estimators,\n",
        "                                                      max_features=max_features,\n",
        "                                                      n_jobs=4,\n",
        "                                                      max_depth=depth,\n",
        "                                                      # random_state=0,\n",
        "                                                      criterion=split_criterion\n",
        "                                                     )\n",
        "\n",
        "                scores = cross_val_score(forestModel, X_trainval_scaled, Y_trainval, cv=kfolds, scoring='accuracy')\n",
        "\n",
        "                score = np.mean(scores)\n",
        "                if score > best_score:\n",
        "                    best_score = score\n",
        "                    optimal_n = n_estimators\n",
        "                    optimal_max_features = max_features\n",
        "                    optimal_depth = depth\n",
        "                    optimal_split = split_criterion"
      ],
      "execution_count": 0,
      "outputs": []
    },
    {
      "cell_type": "code",
      "metadata": {
        "id": "kFAK5_uCLx-x",
        "colab_type": "code",
        "outputId": "72e6d6f0-f788-432e-d2fd-17da08a78a5e",
        "colab": {
          "base_uri": "https://localhost:8080/",
          "height": 191
        }
      },
      "source": [
        "SelectedRFModel = RandomForestClassifier(\n",
        "                                          n_estimators=optimal_n,\n",
        "                                          max_features=optimal_max_features,\n",
        "                                          n_jobs=4,\n",
        "                                          max_depth=optimal_depth,\n",
        "                                          random_state=0,\n",
        "                                          criterion=optimal_split\n",
        "                                        )\n",
        "SelectedRFModel.fit(X_trainval_scaled, Y_trainval)\n",
        "\n",
        "PredictedOutput = SelectedRFModel.predict(X_test_scaled)\n",
        "test_score = SelectedRFModel.score(X_test_scaled, Y_test)\n",
        "test_recall = recall_score(Y_test, PredictedOutput, pos_label=1)\n",
        "fpr, tpr, thresholds = roc_curve(Y_test, PredictedOutput, pos_label=1)\n",
        "test_auc = auc(fpr, tpr)\n",
        "if(test_auc>max_test_auc):\n",
        "  max_test_auc = test_auc\n",
        "  req_obj= SelectedRFModel\n",
        "print(\"prediction for Random Forest\", PredictedOutput)\n",
        "print(\"Best accuracy on validation set is:\", best_score)\n",
        "print(\"Best parameters of n_estimators are: \", optimal_n)\n",
        "print(\"Best parameters of max_features are: \", optimal_max_features)\n",
        "print(\"Best parameters of max_depth are: \", optimal_depth)\n",
        "print(\"Best parameters of split criterian are: \", optimal_split)\n",
        "print(\"Test accuracy with the best parameters is\", test_score)\n",
        "print(\"Test recall with the best parameters is:\", test_recall)\n",
        "print(\"Test AUC with the best parameters is:\", test_auc)"
      ],
      "execution_count": 0,
      "outputs": [
        {
          "output_type": "stream",
          "text": [
            "prediction for Random Forest [1 0 1 1 1 0 1 1 0 1 1 0 0 0 0 1 0 0 0 0 0 1 1 1 0 0 0 0 1 0 0 0 0 1 1 1 1\n",
            " 0]\n",
            "Best accuracy on validation set is: 0.7940711462450591\n",
            "Best parameters of n_estimators are:  8\n",
            "Best parameters of max_features are:  4\n",
            "Best parameters of max_depth are:  7\n",
            "Best parameters of split criterian are:  entropy\n",
            "Test accuracy with the best parameters is 0.8157894736842105\n",
            "Test recall with the best parameters is: 0.75\n",
            "Test AUC with the best parameters is: 0.8194444444444443\n"
          ],
          "name": "stdout"
        }
      ]
    },
    {
      "cell_type": "code",
      "metadata": {
        "id": "POAjNIMVLjsu",
        "colab_type": "code",
        "outputId": "fcfaa131-9d7b-4717-9bf1-5c2b25abaa7b",
        "colab": {
          "base_uri": "https://localhost:8080/",
          "height": 55
        }
      },
      "source": [
        "m = 'Random Forest'\n",
        "performance_metric.append([m, test_score, test_recall, test_auc, fpr, tpr, thresholds])\n",
        "print(performance_metric)"
      ],
      "execution_count": 0,
      "outputs": [
        {
          "output_type": "stream",
          "text": [
            "[['Logistic Regression', 0.7894736842105263, 0.75, 0.7916666666666667, array([0.        , 0.16666667, 1.        ]), array([0.  , 0.75, 1.  ]), array([2, 1, 0])], ['SVM', 0.7894736842105263, 0.7, 0.7944444444444444, array([0.        , 0.11111111, 1.        ]), array([0. , 0.7, 1. ]), array([2, 1, 0])], ['Decision Tree', 0.8157894736842105, 0.65, 0.825, array([0., 0., 1.]), array([0.  , 0.65, 1.  ]), array([2, 1, 0])], ['Random Forest', 0.8157894736842105, 0.75, 0.8194444444444443, array([0.        , 0.11111111, 1.        ]), array([0.  , 0.75, 1.  ]), array([2, 1, 0])]]\n"
          ],
          "name": "stdout"
        }
      ]
    },
    {
      "cell_type": "code",
      "metadata": {
        "id": "h-jFwXJWc6M2",
        "colab_type": "code",
        "outputId": "84d5ddc2-f4f3-4c54-a937-2ef4e9e41c45",
        "colab": {
          "base_uri": "https://localhost:8080/",
          "height": 173
        }
      },
      "source": [
        "print(\"Feature importance: \")\n",
        "np.array([X.columns.values.tolist(), list(SelectedRFModel.feature_importances_)]).T"
      ],
      "execution_count": 0,
      "outputs": [
        {
          "output_type": "stream",
          "text": [
            "Feature importance: \n"
          ],
          "name": "stdout"
        },
        {
          "output_type": "execute_result",
          "data": {
            "text/plain": [
              "array([['M/F', '0.033977248547550666'],\n",
              "       ['Age', '0.09044955156501314'],\n",
              "       ['EDUC', '0.05130352193422574'],\n",
              "       ['SES', '0.04333906034004381'],\n",
              "       ['MMSE', '0.371437052728349'],\n",
              "       ['eTIV', '0.033979127917164675'],\n",
              "       ['nWBV', '0.22087953821305328'],\n",
              "       ['ASF', '0.1546348987545998']], dtype='<U20')"
            ]
          },
          "metadata": {
            "tags": []
          },
          "execution_count": 47
        }
      ]
    },
    {
      "cell_type": "markdown",
      "metadata": {
        "id": "2JfY6MVi_Zo7",
        "colab_type": "text"
      },
      "source": [
        "<font size=\"4\">5) KNN"
      ]
    },
    {
      "cell_type": "code",
      "metadata": {
        "id": "VMwTxnq8LojJ",
        "colab_type": "code",
        "colab": {}
      },
      "source": [
        "best_score = 0"
      ],
      "execution_count": 0,
      "outputs": []
    },
    {
      "cell_type": "code",
      "metadata": {
        "id": "hfrbYMcA_fJ3",
        "colab_type": "code",
        "colab": {}
      },
      "source": [
        "for n_neighbors in range(3, 10): # Iterate over different neighbors paramenter\n",
        "    for algorithm in ['ball_tree', 'kd_tree', 'brute']: # Iterate over the different algorithms\n",
        "        knn = KNeighborsClassifier(n_neighbors=n_neighbors, algorithm=algorithm)\n",
        "\n",
        "        scores = cross_val_score(knn, X_trainval_scaled, Y_trainval, cv=kfolds, scoring='accuracy')\n",
        "\n",
        "        score = np.mean(scores)\n",
        "        if score > best_score:\n",
        "            best_score = score\n",
        "            optimal_n = n_neighbors\n",
        "            optimal_alogrithm = algorithm"
      ],
      "execution_count": 0,
      "outputs": []
    },
    {
      "cell_type": "code",
      "metadata": {
        "id": "f-Wo3ONjL3P2",
        "colab_type": "code",
        "outputId": "5922c86e-4d30-4372-bda7-a3db79cd431f",
        "colab": {
          "base_uri": "https://localhost:8080/",
          "height": 156
        }
      },
      "source": [
        "SelectedKNNModel = KNeighborsClassifier(n_neighbors=optimal_n, algorithm=optimal_alogrithm)\n",
        "SelectedKNNModel.fit(X_trainval_scaled, Y_trainval )\n",
        "\n",
        "PredictedOutput = SelectedKNNModel.predict(X_test_scaled)\n",
        "test_score = SelectedKNNModel.score(X_test_scaled, Y_test)\n",
        "test_recall = recall_score(Y_test, PredictedOutput, pos_label=1)\n",
        "fpr, tpr, thresholds = roc_curve(Y_test, PredictedOutput, pos_label=1)\n",
        "test_auc = auc(fpr, tpr)\n",
        "if(test_auc>max_test_auc):\n",
        "  max_test_auc = test_auc\n",
        "  req_obj= SelectedKNNModel\n",
        "print(\"prediction for KNN\", PredictedOutput)\n",
        "print(\"Best accuracy on validation set is:\", best_score)\n",
        "print(\"Best parameters of n_neighbors is: \", optimal_n)\n",
        "print(\"Best parameters of algorithm is: \", optimal_alogrithm)\n",
        "print(\"Test accuracy with the best parameters is\", test_score)\n",
        "print(\"Test recall with the best parameters is:\", test_recall)\n",
        "print(\"Test AUC with the best parameters is:\", test_auc)"
      ],
      "execution_count": 0,
      "outputs": [
        {
          "output_type": "stream",
          "text": [
            "prediction for KNN [1 0 0 0 0 1 1 1 0 1 1 0 0 0 0 0 0 1 1 0 0 0 1 0 0 0 0 0 1 0 0 1 0 1 1 1 1\n",
            " 0]\n",
            "Best accuracy on validation set is: 0.6604743083003952\n",
            "Best parameters of n_neighbors is:  6\n",
            "Best parameters of algorithm is:  ball_tree\n",
            "Test accuracy with the best parameters is 0.7105263157894737\n",
            "Test recall with the best parameters is: 0.6\n",
            "Test AUC with the best parameters is: 0.7166666666666668\n"
          ],
          "name": "stdout"
        }
      ]
    },
    {
      "cell_type": "code",
      "metadata": {
        "id": "-IunqAg6L5G0",
        "colab_type": "code",
        "outputId": "0c746ca6-abe5-4959-e9cb-89a069d10dc6",
        "colab": {
          "base_uri": "https://localhost:8080/",
          "height": 55
        }
      },
      "source": [
        "m = 'KNN'\n",
        "performance_metric.append([m, test_score, test_recall, test_auc, fpr, tpr, thresholds])\n",
        "print(performance_metric)"
      ],
      "execution_count": 0,
      "outputs": [
        {
          "output_type": "stream",
          "text": [
            "[['Logistic Regression', 0.7894736842105263, 0.75, 0.7916666666666667, array([0.        , 0.16666667, 1.        ]), array([0.  , 0.75, 1.  ]), array([2, 1, 0])], ['SVM', 0.7894736842105263, 0.7, 0.7944444444444444, array([0.        , 0.11111111, 1.        ]), array([0. , 0.7, 1. ]), array([2, 1, 0])], ['Decision Tree', 0.8157894736842105, 0.65, 0.825, array([0., 0., 1.]), array([0.  , 0.65, 1.  ]), array([2, 1, 0])], ['Random Forest', 0.8157894736842105, 0.75, 0.8194444444444443, array([0.        , 0.11111111, 1.        ]), array([0.  , 0.75, 1.  ]), array([2, 1, 0])], ['KNN', 0.7105263157894737, 0.6, 0.7166666666666668, array([0.        , 0.16666667, 1.        ]), array([0. , 0.6, 1. ]), array([2, 1, 0])]]\n"
          ],
          "name": "stdout"
        }
      ]
    },
    {
      "cell_type": "markdown",
      "metadata": {
        "id": "Htzahi0Bc6M7",
        "colab_type": "text"
      },
      "source": [
        "<font size=\"4\">I) Compare the Models"
      ]
    },
    {
      "cell_type": "code",
      "metadata": {
        "id": "SLuU9GaWc6M8",
        "colab_type": "code",
        "outputId": "e454946b-299e-4679-f0af-57d734ebe38c",
        "colab": {
          "base_uri": "https://localhost:8080/",
          "height": 202
        }
      },
      "source": [
        "# Performance Metric for each model\n",
        "result = pd.DataFrame(performance_metric, columns=['Model', 'Accuracy', 'Recall', 'AUC', 'FPR', 'TPR', 'TH'])\n",
        "result[['Model', 'Accuracy', 'Recall', 'AUC']]"
      ],
      "execution_count": 0,
      "outputs": [
        {
          "output_type": "execute_result",
          "data": {
            "text/html": [
              "<div>\n",
              "<style scoped>\n",
              "    .dataframe tbody tr th:only-of-type {\n",
              "        vertical-align: middle;\n",
              "    }\n",
              "\n",
              "    .dataframe tbody tr th {\n",
              "        vertical-align: top;\n",
              "    }\n",
              "\n",
              "    .dataframe thead th {\n",
              "        text-align: right;\n",
              "    }\n",
              "</style>\n",
              "<table border=\"1\" class=\"dataframe\">\n",
              "  <thead>\n",
              "    <tr style=\"text-align: right;\">\n",
              "      <th></th>\n",
              "      <th>Model</th>\n",
              "      <th>Accuracy</th>\n",
              "      <th>Recall</th>\n",
              "      <th>AUC</th>\n",
              "    </tr>\n",
              "  </thead>\n",
              "  <tbody>\n",
              "    <tr>\n",
              "      <th>0</th>\n",
              "      <td>Logistic Regression</td>\n",
              "      <td>0.789474</td>\n",
              "      <td>0.75</td>\n",
              "      <td>0.791667</td>\n",
              "    </tr>\n",
              "    <tr>\n",
              "      <th>1</th>\n",
              "      <td>SVM</td>\n",
              "      <td>0.789474</td>\n",
              "      <td>0.70</td>\n",
              "      <td>0.794444</td>\n",
              "    </tr>\n",
              "    <tr>\n",
              "      <th>2</th>\n",
              "      <td>Decision Tree</td>\n",
              "      <td>0.815789</td>\n",
              "      <td>0.65</td>\n",
              "      <td>0.825000</td>\n",
              "    </tr>\n",
              "    <tr>\n",
              "      <th>3</th>\n",
              "      <td>Random Forest</td>\n",
              "      <td>0.815789</td>\n",
              "      <td>0.75</td>\n",
              "      <td>0.819444</td>\n",
              "    </tr>\n",
              "    <tr>\n",
              "      <th>4</th>\n",
              "      <td>KNN</td>\n",
              "      <td>0.710526</td>\n",
              "      <td>0.60</td>\n",
              "      <td>0.716667</td>\n",
              "    </tr>\n",
              "  </tbody>\n",
              "</table>\n",
              "</div>"
            ],
            "text/plain": [
              "                 Model  Accuracy  Recall       AUC\n",
              "0  Logistic Regression  0.789474    0.75  0.791667\n",
              "1                  SVM  0.789474    0.70  0.794444\n",
              "2        Decision Tree  0.815789    0.65  0.825000\n",
              "3        Random Forest  0.815789    0.75  0.819444\n",
              "4                  KNN  0.710526    0.60  0.716667"
            ]
          },
          "metadata": {
            "tags": []
          },
          "execution_count": 52
        }
      ]
    },
    {
      "cell_type": "code",
      "metadata": {
        "id": "2xmeq_Hdo0wF",
        "colab_type": "code",
        "colab": {}
      },
      "source": [
        ""
      ],
      "execution_count": 0,
      "outputs": []
    }
  ]
}